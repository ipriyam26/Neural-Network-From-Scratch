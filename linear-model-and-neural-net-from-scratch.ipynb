{
 "cells": [
  {
   "cell_type": "markdown",
   "id": "a3c0683e",
   "metadata": {
    "papermill": {
     "duration": 0.098697,
     "end_time": "2022-10-04T11:52:47.766557",
     "exception": false,
     "start_time": "2022-10-04T11:52:47.667860",
     "status": "completed"
    },
    "tags": []
   },
   "source": [
    "## Introduction"
   ]
  },
  {
   "cell_type": "markdown",
   "id": "8586c0a1",
   "metadata": {
    "papermill": {
     "duration": 0.093501,
     "end_time": "2022-10-04T11:52:47.953991",
     "exception": false,
     "start_time": "2022-10-04T11:52:47.860490",
     "status": "completed"
    },
    "tags": []
   },
   "source": [
    "In this notebook we're going to build and train a deep learning model \"from scratch\" -- by which I mean that we're not going to use any pre-built architecture, or optimizers, or data loading frameworks, etc.\n",
    "\n",
    "We'll be assuming you already know the basics of how a neural network works. If you don't, read this notebook first: [How does a neural net really work?\n",
    "](https://www.kaggle.com/code/jhoward/how-does-a-neural-net-really-work). We'll be using Kaggle's [Titanic](https://www.kaggle.com/competitions/titanic/) competition in this notebook, because it's very small and simple, but also has displays many of the tricky real-life issues that we need to handle in most practical projects. (Note, however, that this competition is a small \"learner\" competition on Kaggle, so don't expect to actually see much benefits from using a neural net just yet; that will come once we try our some real competitions!)\n",
    "\n",
    "It's great to be able to run the same notebook on your own machine or Colab, as well as Kaggle. To allow for this, we use this code to download the data as needed when not on Kaggle (see [this notebook](https://www.kaggle.com/code/jhoward/getting-started-with-nlp-for-absolute-beginners/) for details about this technique):"
   ]
  },
  {
   "cell_type": "code",
   "execution_count": 1,
   "id": "9ef8da1e",
   "metadata": {
    "execution": {
     "iopub.execute_input": "2022-10-04T11:52:48.144314Z",
     "iopub.status.busy": "2022-10-04T11:52:48.143636Z",
     "iopub.status.idle": "2022-10-04T11:52:48.154900Z",
     "shell.execute_reply": "2022-10-04T11:52:48.154263Z"
    },
    "papermill": {
     "duration": 0.109102,
     "end_time": "2022-10-04T11:52:48.156653",
     "exception": false,
     "start_time": "2022-10-04T11:52:48.047551",
     "status": "completed"
    },
    "tags": []
   },
   "outputs": [],
   "source": [
    "import os\n",
    "from pathlib import Path\n",
    "\n",
    "iskaggle = os.environ.get('KAGGLE_KERNEL_RUN_TYPE', '')\n",
    "if iskaggle: path = Path('../input/titanic')\n",
    "else:\n",
    "    path = Path('titanic')\n",
    "    if not path.exists():\n",
    "        import zipfile,kaggle\n",
    "        kaggle.api.competition_download_cli(str(path))\n",
    "        zipfile.ZipFile(f'{path}.zip').extractall(path)"
   ]
  },
  {
   "cell_type": "markdown",
   "id": "89418d35",
   "metadata": {
    "hidden": true,
    "papermill": {
     "duration": 0.136826,
     "end_time": "2022-10-04T11:52:48.387308",
     "exception": false,
     "start_time": "2022-10-04T11:52:48.250482",
     "status": "completed"
    },
    "tags": []
   },
   "source": [
    "Note that the data for Kaggle comps always lives in the `../input` folder. The easiest way to get the path is to click the \"K\" button in the top-right of the Kaggle notebook, click on the folder shown there, and click the copy button.\n",
    "\n",
    "We'll be using *numpy* and *pytorch* for array calculations in this notebook, and *pandas* for working with tabular data, so we'll import them and set them to display using a bit more space than they default to."
   ]
  },
  {
   "cell_type": "code",
   "execution_count": 2,
   "id": "403b748a",
   "metadata": {
    "execution": {
     "iopub.execute_input": "2022-10-04T11:52:48.581190Z",
     "iopub.status.busy": "2022-10-04T11:52:48.580918Z",
     "iopub.status.idle": "2022-10-04T11:52:50.210528Z",
     "shell.execute_reply": "2022-10-04T11:52:50.209785Z"
    },
    "papermill": {
     "duration": 1.72697,
     "end_time": "2022-10-04T11:52:50.212557",
     "exception": false,
     "start_time": "2022-10-04T11:52:48.485587",
     "status": "completed"
    },
    "tags": []
   },
   "outputs": [],
   "source": [
    "import torch, numpy as np, pandas as pd\n",
    "np.set_printoptions(linewidth=140)\n",
    "torch.set_printoptions(linewidth=140, sci_mode=False, edgeitems=7)\n",
    "pd.set_option('display.width', 140)"
   ]
  },
  {
   "cell_type": "markdown",
   "id": "16674841",
   "metadata": {
    "heading_collapsed": true,
    "papermill": {
     "duration": 0.178253,
     "end_time": "2022-10-04T11:52:50.503441",
     "exception": false,
     "start_time": "2022-10-04T11:52:50.325188",
     "status": "completed"
    },
    "tags": []
   },
   "source": [
    "## Cleaning the data"
   ]
  },
  {
   "cell_type": "markdown",
   "id": "81e8937a",
   "metadata": {
    "hidden": true,
    "papermill": {
     "duration": 0.135443,
     "end_time": "2022-10-04T11:52:50.775859",
     "exception": false,
     "start_time": "2022-10-04T11:52:50.640416",
     "status": "completed"
    },
    "tags": []
   },
   "source": [
    "This is a *tabular data* competition -- the data is in the form of a table. It's provided as a Comma Separated Values (CSV) file. We can open it using the *pandas* library, which will create a `DataFrame`."
   ]
  },
  {
   "cell_type": "code",
   "execution_count": 3,
   "id": "19e0131e",
   "metadata": {
    "execution": {
     "iopub.execute_input": "2022-10-04T11:52:51.006351Z",
     "iopub.status.busy": "2022-10-04T11:52:51.006064Z",
     "iopub.status.idle": "2022-10-04T11:52:51.046893Z",
     "shell.execute_reply": "2022-10-04T11:52:51.046056Z"
    },
    "hidden": true,
    "papermill": {
     "duration": 0.141948,
     "end_time": "2022-10-04T11:52:51.049672",
     "exception": false,
     "start_time": "2022-10-04T11:52:50.907724",
     "status": "completed"
    },
    "scrolled": true,
    "tags": []
   },
   "outputs": [
    {
     "data": {
      "text/html": [
       "<div>\n",
       "<style scoped>\n",
       "    .dataframe tbody tr th:only-of-type {\n",
       "        vertical-align: middle;\n",
       "    }\n",
       "\n",
       "    .dataframe tbody tr th {\n",
       "        vertical-align: top;\n",
       "    }\n",
       "\n",
       "    .dataframe thead th {\n",
       "        text-align: right;\n",
       "    }\n",
       "</style>\n",
       "<table border=\"1\" class=\"dataframe\">\n",
       "  <thead>\n",
       "    <tr style=\"text-align: right;\">\n",
       "      <th></th>\n",
       "      <th>PassengerId</th>\n",
       "      <th>Survived</th>\n",
       "      <th>Pclass</th>\n",
       "      <th>Name</th>\n",
       "      <th>Sex</th>\n",
       "      <th>Age</th>\n",
       "      <th>SibSp</th>\n",
       "      <th>Parch</th>\n",
       "      <th>Ticket</th>\n",
       "      <th>Fare</th>\n",
       "      <th>Cabin</th>\n",
       "      <th>Embarked</th>\n",
       "    </tr>\n",
       "  </thead>\n",
       "  <tbody>\n",
       "    <tr>\n",
       "      <th>0</th>\n",
       "      <td>1</td>\n",
       "      <td>0</td>\n",
       "      <td>3</td>\n",
       "      <td>Braund, Mr. Owen Harris</td>\n",
       "      <td>male</td>\n",
       "      <td>22.0</td>\n",
       "      <td>1</td>\n",
       "      <td>0</td>\n",
       "      <td>A/5 21171</td>\n",
       "      <td>7.2500</td>\n",
       "      <td>NaN</td>\n",
       "      <td>S</td>\n",
       "    </tr>\n",
       "    <tr>\n",
       "      <th>1</th>\n",
       "      <td>2</td>\n",
       "      <td>1</td>\n",
       "      <td>1</td>\n",
       "      <td>Cumings, Mrs. John Bradley (Florence Briggs Th...</td>\n",
       "      <td>female</td>\n",
       "      <td>38.0</td>\n",
       "      <td>1</td>\n",
       "      <td>0</td>\n",
       "      <td>PC 17599</td>\n",
       "      <td>71.2833</td>\n",
       "      <td>C85</td>\n",
       "      <td>C</td>\n",
       "    </tr>\n",
       "    <tr>\n",
       "      <th>2</th>\n",
       "      <td>3</td>\n",
       "      <td>1</td>\n",
       "      <td>3</td>\n",
       "      <td>Heikkinen, Miss. Laina</td>\n",
       "      <td>female</td>\n",
       "      <td>26.0</td>\n",
       "      <td>0</td>\n",
       "      <td>0</td>\n",
       "      <td>STON/O2. 3101282</td>\n",
       "      <td>7.9250</td>\n",
       "      <td>NaN</td>\n",
       "      <td>S</td>\n",
       "    </tr>\n",
       "    <tr>\n",
       "      <th>3</th>\n",
       "      <td>4</td>\n",
       "      <td>1</td>\n",
       "      <td>1</td>\n",
       "      <td>Futrelle, Mrs. Jacques Heath (Lily May Peel)</td>\n",
       "      <td>female</td>\n",
       "      <td>35.0</td>\n",
       "      <td>1</td>\n",
       "      <td>0</td>\n",
       "      <td>113803</td>\n",
       "      <td>53.1000</td>\n",
       "      <td>C123</td>\n",
       "      <td>S</td>\n",
       "    </tr>\n",
       "    <tr>\n",
       "      <th>4</th>\n",
       "      <td>5</td>\n",
       "      <td>0</td>\n",
       "      <td>3</td>\n",
       "      <td>Allen, Mr. William Henry</td>\n",
       "      <td>male</td>\n",
       "      <td>35.0</td>\n",
       "      <td>0</td>\n",
       "      <td>0</td>\n",
       "      <td>373450</td>\n",
       "      <td>8.0500</td>\n",
       "      <td>NaN</td>\n",
       "      <td>S</td>\n",
       "    </tr>\n",
       "    <tr>\n",
       "      <th>...</th>\n",
       "      <td>...</td>\n",
       "      <td>...</td>\n",
       "      <td>...</td>\n",
       "      <td>...</td>\n",
       "      <td>...</td>\n",
       "      <td>...</td>\n",
       "      <td>...</td>\n",
       "      <td>...</td>\n",
       "      <td>...</td>\n",
       "      <td>...</td>\n",
       "      <td>...</td>\n",
       "      <td>...</td>\n",
       "    </tr>\n",
       "    <tr>\n",
       "      <th>886</th>\n",
       "      <td>887</td>\n",
       "      <td>0</td>\n",
       "      <td>2</td>\n",
       "      <td>Montvila, Rev. Juozas</td>\n",
       "      <td>male</td>\n",
       "      <td>27.0</td>\n",
       "      <td>0</td>\n",
       "      <td>0</td>\n",
       "      <td>211536</td>\n",
       "      <td>13.0000</td>\n",
       "      <td>NaN</td>\n",
       "      <td>S</td>\n",
       "    </tr>\n",
       "    <tr>\n",
       "      <th>887</th>\n",
       "      <td>888</td>\n",
       "      <td>1</td>\n",
       "      <td>1</td>\n",
       "      <td>Graham, Miss. Margaret Edith</td>\n",
       "      <td>female</td>\n",
       "      <td>19.0</td>\n",
       "      <td>0</td>\n",
       "      <td>0</td>\n",
       "      <td>112053</td>\n",
       "      <td>30.0000</td>\n",
       "      <td>B42</td>\n",
       "      <td>S</td>\n",
       "    </tr>\n",
       "    <tr>\n",
       "      <th>888</th>\n",
       "      <td>889</td>\n",
       "      <td>0</td>\n",
       "      <td>3</td>\n",
       "      <td>Johnston, Miss. Catherine Helen \"Carrie\"</td>\n",
       "      <td>female</td>\n",
       "      <td>NaN</td>\n",
       "      <td>1</td>\n",
       "      <td>2</td>\n",
       "      <td>W./C. 6607</td>\n",
       "      <td>23.4500</td>\n",
       "      <td>NaN</td>\n",
       "      <td>S</td>\n",
       "    </tr>\n",
       "    <tr>\n",
       "      <th>889</th>\n",
       "      <td>890</td>\n",
       "      <td>1</td>\n",
       "      <td>1</td>\n",
       "      <td>Behr, Mr. Karl Howell</td>\n",
       "      <td>male</td>\n",
       "      <td>26.0</td>\n",
       "      <td>0</td>\n",
       "      <td>0</td>\n",
       "      <td>111369</td>\n",
       "      <td>30.0000</td>\n",
       "      <td>C148</td>\n",
       "      <td>C</td>\n",
       "    </tr>\n",
       "    <tr>\n",
       "      <th>890</th>\n",
       "      <td>891</td>\n",
       "      <td>0</td>\n",
       "      <td>3</td>\n",
       "      <td>Dooley, Mr. Patrick</td>\n",
       "      <td>male</td>\n",
       "      <td>32.0</td>\n",
       "      <td>0</td>\n",
       "      <td>0</td>\n",
       "      <td>370376</td>\n",
       "      <td>7.7500</td>\n",
       "      <td>NaN</td>\n",
       "      <td>Q</td>\n",
       "    </tr>\n",
       "  </tbody>\n",
       "</table>\n",
       "<p>891 rows × 12 columns</p>\n",
       "</div>"
      ],
      "text/plain": [
       "     PassengerId  Survived  Pclass                                               Name     Sex   Age  SibSp  Parch            Ticket  \\\n",
       "0              1         0       3                            Braund, Mr. Owen Harris    male  22.0      1      0         A/5 21171   \n",
       "1              2         1       1  Cumings, Mrs. John Bradley (Florence Briggs Th...  female  38.0      1      0          PC 17599   \n",
       "2              3         1       3                             Heikkinen, Miss. Laina  female  26.0      0      0  STON/O2. 3101282   \n",
       "3              4         1       1       Futrelle, Mrs. Jacques Heath (Lily May Peel)  female  35.0      1      0            113803   \n",
       "4              5         0       3                           Allen, Mr. William Henry    male  35.0      0      0            373450   \n",
       "..           ...       ...     ...                                                ...     ...   ...    ...    ...               ...   \n",
       "886          887         0       2                              Montvila, Rev. Juozas    male  27.0      0      0            211536   \n",
       "887          888         1       1                       Graham, Miss. Margaret Edith  female  19.0      0      0            112053   \n",
       "888          889         0       3           Johnston, Miss. Catherine Helen \"Carrie\"  female   NaN      1      2        W./C. 6607   \n",
       "889          890         1       1                              Behr, Mr. Karl Howell    male  26.0      0      0            111369   \n",
       "890          891         0       3                                Dooley, Mr. Patrick    male  32.0      0      0            370376   \n",
       "\n",
       "        Fare Cabin Embarked  \n",
       "0     7.2500   NaN        S  \n",
       "1    71.2833   C85        C  \n",
       "2     7.9250   NaN        S  \n",
       "3    53.1000  C123        S  \n",
       "4     8.0500   NaN        S  \n",
       "..       ...   ...      ...  \n",
       "886  13.0000   NaN        S  \n",
       "887  30.0000   B42        S  \n",
       "888  23.4500   NaN        S  \n",
       "889  30.0000  C148        C  \n",
       "890   7.7500   NaN        Q  \n",
       "\n",
       "[891 rows x 12 columns]"
      ]
     },
     "execution_count": 3,
     "metadata": {},
     "output_type": "execute_result"
    }
   ],
   "source": [
    "df = pd.read_csv(path/'train.csv')\n",
    "df"
   ]
  },
  {
   "cell_type": "markdown",
   "id": "d060a4e1",
   "metadata": {
    "hidden": true,
    "papermill": {
     "duration": 0.096575,
     "end_time": "2022-10-04T11:52:51.242363",
     "exception": false,
     "start_time": "2022-10-04T11:52:51.145788",
     "status": "completed"
    },
    "tags": []
   },
   "source": [
    "As we learned in the *How does a neural net really work* notebook, we going to want to multiply each column by some coefficients. But we can see in the `Cabin` column that there are `NaN` values, which is how Pandas refers to missing values. We can't multiply something by a missing value!\n",
    "\n",
    "Let's check which columns contain `NaN` values. Pandas' `isna()` function returns `True` (which is treated as `1` when used as a number) for `NaN` values, so we can just add them up for each column:"
   ]
  },
  {
   "cell_type": "code",
   "execution_count": 4,
   "id": "d0395232",
   "metadata": {
    "execution": {
     "iopub.execute_input": "2022-10-04T11:52:51.435203Z",
     "iopub.status.busy": "2022-10-04T11:52:51.434923Z",
     "iopub.status.idle": "2022-10-04T11:52:51.443510Z",
     "shell.execute_reply": "2022-10-04T11:52:51.442667Z"
    },
    "hidden": true,
    "papermill": {
     "duration": 0.10859,
     "end_time": "2022-10-04T11:52:51.446552",
     "exception": false,
     "start_time": "2022-10-04T11:52:51.337962",
     "status": "completed"
    },
    "tags": []
   },
   "outputs": [
    {
     "data": {
      "text/plain": [
       "PassengerId      0\n",
       "Survived         0\n",
       "Pclass           0\n",
       "Name             0\n",
       "Sex              0\n",
       "Age            177\n",
       "SibSp            0\n",
       "Parch            0\n",
       "Ticket           0\n",
       "Fare             0\n",
       "Cabin          687\n",
       "Embarked         2\n",
       "dtype: int64"
      ]
     },
     "execution_count": 4,
     "metadata": {},
     "output_type": "execute_result"
    }
   ],
   "source": [
    "df.isna().sum()"
   ]
  },
  {
   "cell_type": "markdown",
   "id": "b305f671",
   "metadata": {
    "hidden": true,
    "papermill": {
     "duration": 0.093874,
     "end_time": "2022-10-04T11:52:51.641528",
     "exception": false,
     "start_time": "2022-10-04T11:52:51.547654",
     "status": "completed"
    },
    "tags": []
   },
   "source": [
    "Notice that by default Pandas sums over columns.\n",
    "\n",
    "We'll need to replace the missing values with something. It doesn't generally matter too much what we choose. We'll use the most common value (the \"*mode*\"). We can use the `mode` function for that. One wrinkle is that it returns more than one row in the case of ties, so we just grab the first row with `iloc[0]`:"
   ]
  },
  {
   "cell_type": "code",
   "execution_count": 5,
   "id": "f8f1cbde",
   "metadata": {
    "execution": {
     "iopub.execute_input": "2022-10-04T11:52:51.834042Z",
     "iopub.status.busy": "2022-10-04T11:52:51.833766Z",
     "iopub.status.idle": "2022-10-04T11:52:51.855243Z",
     "shell.execute_reply": "2022-10-04T11:52:51.854549Z"
    },
    "hidden": true,
    "papermill": {
     "duration": 0.120491,
     "end_time": "2022-10-04T11:52:51.857144",
     "exception": false,
     "start_time": "2022-10-04T11:52:51.736653",
     "status": "completed"
    },
    "tags": []
   },
   "outputs": [
    {
     "data": {
      "text/plain": [
       "PassengerId                      1\n",
       "Survived                       0.0\n",
       "Pclass                         3.0\n",
       "Name           Abbing, Mr. Anthony\n",
       "Sex                           male\n",
       "Age                           24.0\n",
       "SibSp                          0.0\n",
       "Parch                          0.0\n",
       "Ticket                        1601\n",
       "Fare                          8.05\n",
       "Cabin                      B96 B98\n",
       "Embarked                         S\n",
       "Name: 0, dtype: object"
      ]
     },
     "execution_count": 5,
     "metadata": {},
     "output_type": "execute_result"
    }
   ],
   "source": [
    "modes = df.mode().iloc[0]\n",
    "modes"
   ]
  },
  {
   "cell_type": "markdown",
   "id": "4f4f69ae",
   "metadata": {
    "hidden": true,
    "papermill": {
     "duration": 0.095439,
     "end_time": "2022-10-04T11:52:52.052949",
     "exception": false,
     "start_time": "2022-10-04T11:52:51.957510",
     "status": "completed"
    },
    "tags": []
   },
   "source": [
    "BTW, it's never a good idea to use functions without understanding them. So be sure to google for anything you're not familiar with. E.g if you want to learn about `iloc` (which is a very important function indeed!) then Google will give you a link to a [great tutorial](https://www.shanelynn.ie/pandas-iloc-loc-select-rows-and-columns-dataframe/).\n",
    "\n",
    "Now that we've got the mode of each column, we can use `fillna` to replace the missing values with the mode of each column. We'll do it \"in place\" -- meaning that we'll change the dataframe itself, rather than returning a new one."
   ]
  },
  {
   "cell_type": "code",
   "execution_count": 6,
   "id": "362c4900",
   "metadata": {
    "execution": {
     "iopub.execute_input": "2022-10-04T11:52:52.246244Z",
     "iopub.status.busy": "2022-10-04T11:52:52.245965Z",
     "iopub.status.idle": "2022-10-04T11:52:52.256329Z",
     "shell.execute_reply": "2022-10-04T11:52:52.255647Z"
    },
    "hidden": true,
    "papermill": {
     "duration": 0.109452,
     "end_time": "2022-10-04T11:52:52.257991",
     "exception": false,
     "start_time": "2022-10-04T11:52:52.148539",
     "status": "completed"
    },
    "tags": []
   },
   "outputs": [],
   "source": [
    "df.fillna(modes, inplace=True)"
   ]
  },
  {
   "cell_type": "markdown",
   "id": "8f302c6b",
   "metadata": {
    "hidden": true,
    "papermill": {
     "duration": 0.093818,
     "end_time": "2022-10-04T11:52:52.450776",
     "exception": false,
     "start_time": "2022-10-04T11:52:52.356958",
     "status": "completed"
    },
    "tags": []
   },
   "source": [
    "We can now check there's no missing values left:"
   ]
  },
  {
   "cell_type": "code",
   "execution_count": 7,
   "id": "359bd3b0",
   "metadata": {
    "execution": {
     "iopub.execute_input": "2022-10-04T11:52:52.643090Z",
     "iopub.status.busy": "2022-10-04T11:52:52.642510Z",
     "iopub.status.idle": "2022-10-04T11:52:52.652185Z",
     "shell.execute_reply": "2022-10-04T11:52:52.651300Z"
    },
    "hidden": true,
    "papermill": {
     "duration": 0.108224,
     "end_time": "2022-10-04T11:52:52.654047",
     "exception": false,
     "start_time": "2022-10-04T11:52:52.545823",
     "status": "completed"
    },
    "tags": []
   },
   "outputs": [
    {
     "data": {
      "text/plain": [
       "PassengerId    0\n",
       "Survived       0\n",
       "Pclass         0\n",
       "Name           0\n",
       "Sex            0\n",
       "Age            0\n",
       "SibSp          0\n",
       "Parch          0\n",
       "Ticket         0\n",
       "Fare           0\n",
       "Cabin          0\n",
       "Embarked       0\n",
       "dtype: int64"
      ]
     },
     "execution_count": 7,
     "metadata": {},
     "output_type": "execute_result"
    }
   ],
   "source": [
    "df.isna().sum()"
   ]
  },
  {
   "cell_type": "markdown",
   "id": "87adb5a5",
   "metadata": {
    "hidden": true,
    "papermill": {
     "duration": 0.099017,
     "end_time": "2022-10-04T11:52:52.850149",
     "exception": false,
     "start_time": "2022-10-04T11:52:52.751132",
     "status": "completed"
    },
    "tags": []
   },
   "source": [
    "Here's how we get a quick summary of all the numeric columns in the dataset:"
   ]
  },
  {
   "cell_type": "code",
   "execution_count": 8,
   "id": "963f7b7c",
   "metadata": {
    "execution": {
     "iopub.execute_input": "2022-10-04T11:52:53.045640Z",
     "iopub.status.busy": "2022-10-04T11:52:53.045374Z",
     "iopub.status.idle": "2022-10-04T11:52:53.076731Z",
     "shell.execute_reply": "2022-10-04T11:52:53.075847Z"
    },
    "hidden": true,
    "papermill": {
     "duration": 0.130473,
     "end_time": "2022-10-04T11:52:53.078888",
     "exception": false,
     "start_time": "2022-10-04T11:52:52.948415",
     "status": "completed"
    },
    "tags": []
   },
   "outputs": [
    {
     "data": {
      "text/html": [
       "<div>\n",
       "<style scoped>\n",
       "    .dataframe tbody tr th:only-of-type {\n",
       "        vertical-align: middle;\n",
       "    }\n",
       "\n",
       "    .dataframe tbody tr th {\n",
       "        vertical-align: top;\n",
       "    }\n",
       "\n",
       "    .dataframe thead th {\n",
       "        text-align: right;\n",
       "    }\n",
       "</style>\n",
       "<table border=\"1\" class=\"dataframe\">\n",
       "  <thead>\n",
       "    <tr style=\"text-align: right;\">\n",
       "      <th></th>\n",
       "      <th>PassengerId</th>\n",
       "      <th>Survived</th>\n",
       "      <th>Pclass</th>\n",
       "      <th>Age</th>\n",
       "      <th>SibSp</th>\n",
       "      <th>Parch</th>\n",
       "      <th>Fare</th>\n",
       "    </tr>\n",
       "  </thead>\n",
       "  <tbody>\n",
       "    <tr>\n",
       "      <th>count</th>\n",
       "      <td>891.000000</td>\n",
       "      <td>891.000000</td>\n",
       "      <td>891.000000</td>\n",
       "      <td>891.000000</td>\n",
       "      <td>891.000000</td>\n",
       "      <td>891.000000</td>\n",
       "      <td>891.000000</td>\n",
       "    </tr>\n",
       "    <tr>\n",
       "      <th>mean</th>\n",
       "      <td>446.000000</td>\n",
       "      <td>0.383838</td>\n",
       "      <td>2.308642</td>\n",
       "      <td>28.566970</td>\n",
       "      <td>0.523008</td>\n",
       "      <td>0.381594</td>\n",
       "      <td>32.204208</td>\n",
       "    </tr>\n",
       "    <tr>\n",
       "      <th>std</th>\n",
       "      <td>257.353842</td>\n",
       "      <td>0.486592</td>\n",
       "      <td>0.836071</td>\n",
       "      <td>13.199572</td>\n",
       "      <td>1.102743</td>\n",
       "      <td>0.806057</td>\n",
       "      <td>49.693429</td>\n",
       "    </tr>\n",
       "    <tr>\n",
       "      <th>min</th>\n",
       "      <td>1.000000</td>\n",
       "      <td>0.000000</td>\n",
       "      <td>1.000000</td>\n",
       "      <td>0.420000</td>\n",
       "      <td>0.000000</td>\n",
       "      <td>0.000000</td>\n",
       "      <td>0.000000</td>\n",
       "    </tr>\n",
       "    <tr>\n",
       "      <th>25%</th>\n",
       "      <td>223.500000</td>\n",
       "      <td>0.000000</td>\n",
       "      <td>2.000000</td>\n",
       "      <td>22.000000</td>\n",
       "      <td>0.000000</td>\n",
       "      <td>0.000000</td>\n",
       "      <td>7.910400</td>\n",
       "    </tr>\n",
       "    <tr>\n",
       "      <th>50%</th>\n",
       "      <td>446.000000</td>\n",
       "      <td>0.000000</td>\n",
       "      <td>3.000000</td>\n",
       "      <td>24.000000</td>\n",
       "      <td>0.000000</td>\n",
       "      <td>0.000000</td>\n",
       "      <td>14.454200</td>\n",
       "    </tr>\n",
       "    <tr>\n",
       "      <th>75%</th>\n",
       "      <td>668.500000</td>\n",
       "      <td>1.000000</td>\n",
       "      <td>3.000000</td>\n",
       "      <td>35.000000</td>\n",
       "      <td>1.000000</td>\n",
       "      <td>0.000000</td>\n",
       "      <td>31.000000</td>\n",
       "    </tr>\n",
       "    <tr>\n",
       "      <th>max</th>\n",
       "      <td>891.000000</td>\n",
       "      <td>1.000000</td>\n",
       "      <td>3.000000</td>\n",
       "      <td>80.000000</td>\n",
       "      <td>8.000000</td>\n",
       "      <td>6.000000</td>\n",
       "      <td>512.329200</td>\n",
       "    </tr>\n",
       "  </tbody>\n",
       "</table>\n",
       "</div>"
      ],
      "text/plain": [
       "       PassengerId    Survived      Pclass         Age       SibSp       Parch        Fare\n",
       "count   891.000000  891.000000  891.000000  891.000000  891.000000  891.000000  891.000000\n",
       "mean    446.000000    0.383838    2.308642   28.566970    0.523008    0.381594   32.204208\n",
       "std     257.353842    0.486592    0.836071   13.199572    1.102743    0.806057   49.693429\n",
       "min       1.000000    0.000000    1.000000    0.420000    0.000000    0.000000    0.000000\n",
       "25%     223.500000    0.000000    2.000000   22.000000    0.000000    0.000000    7.910400\n",
       "50%     446.000000    0.000000    3.000000   24.000000    0.000000    0.000000   14.454200\n",
       "75%     668.500000    1.000000    3.000000   35.000000    1.000000    0.000000   31.000000\n",
       "max     891.000000    1.000000    3.000000   80.000000    8.000000    6.000000  512.329200"
      ]
     },
     "execution_count": 8,
     "metadata": {},
     "output_type": "execute_result"
    }
   ],
   "source": [
    "import numpy as np\n",
    "\n",
    "df.describe(include=(np.number))"
   ]
  },
  {
   "cell_type": "markdown",
   "id": "ddedfbc8",
   "metadata": {
    "execution": {
     "iopub.execute_input": "2022-05-13T11:02:34.328433Z",
     "iopub.status.busy": "2022-05-13T11:02:34.327999Z",
     "iopub.status.idle": "2022-05-13T11:02:34.336993Z",
     "shell.execute_reply": "2022-05-13T11:02:34.335466Z",
     "shell.execute_reply.started": "2022-05-13T11:02:34.32838Z"
    },
    "hidden": true,
    "papermill": {
     "duration": 0.096367,
     "end_time": "2022-10-04T11:52:53.272866",
     "exception": false,
     "start_time": "2022-10-04T11:52:53.176499",
     "status": "completed"
    },
    "tags": []
   },
   "source": [
    "We can see that `Fare` contains mainly values of around `0` to `30`, but there's a few really big ones. This is very common with fields contain monetary values, and it can cause problems for our model, because once that column is multiplied by a coefficient later, the few rows with really big values will dominate the result.\n",
    "\n",
    "You can see the issue most clearly visually by looking at a histogram, which shows a long tail to the right (and don't forget: if you're not entirely sure what a histogram is, Google \"[histogram tutorial](https://www.google.com/search?q=histogram+tutorial&oq=histogram+tutorial)\" and do a bit of reading before continuing on):"
   ]
  },
  {
   "cell_type": "code",
   "execution_count": 9,
   "id": "4f2244d0",
   "metadata": {
    "execution": {
     "iopub.execute_input": "2022-10-04T11:52:53.465621Z",
     "iopub.status.busy": "2022-10-04T11:52:53.465362Z",
     "iopub.status.idle": "2022-10-04T11:52:53.705736Z",
     "shell.execute_reply": "2022-10-04T11:52:53.704951Z"
    },
    "hidden": true,
    "papermill": {
     "duration": 0.338813,
     "end_time": "2022-10-04T11:52:53.707658",
     "exception": false,
     "start_time": "2022-10-04T11:52:53.368845",
     "status": "completed"
    },
    "tags": []
   },
   "outputs": [
    {
     "data": {
      "image/png": "[encoded data removed]",
      "text/plain": [
       "<Figure size 432x288 with 1 Axes>"
      ]
     },
     "metadata": {
      "needs_background": "light"
     },
     "output_type": "display_data"
    }
   ],
   "source": [
    "df['Fare'].hist();"
   ]
  },
  {
   "cell_type": "markdown",
   "id": "af8cc53a",
   "metadata": {
    "execution": {
     "iopub.execute_input": "2022-05-13T11:02:34.328433Z",
     "iopub.status.busy": "2022-05-13T11:02:34.327999Z",
     "iopub.status.idle": "2022-05-13T11:02:34.336993Z",
     "shell.execute_reply": "2022-05-13T11:02:34.335466Z",
     "shell.execute_reply.started": "2022-05-13T11:02:34.32838Z"
    },
    "hidden": true,
    "papermill": {
     "duration": 0.095797,
     "end_time": "2022-10-04T11:52:53.900442",
     "exception": false,
     "start_time": "2022-10-04T11:52:53.804645",
     "status": "completed"
    },
    "tags": []
   },
   "source": [
    "To fix this, the most common approach is to take the logarithm, which squishes the big numbers and makes the distribution more reasonable. Note, however, that there are zeros in the `Fare` column, and `log(0)` is infinite -- to fix this, we'll simply add `1` to all values first:"
   ]
  },
  {
   "cell_type": "code",
   "execution_count": 10,
   "id": "e97c0550",
   "metadata": {
    "execution": {
     "iopub.execute_input": "2022-10-04T11:52:54.093039Z",
     "iopub.status.busy": "2022-10-04T11:52:54.092762Z",
     "iopub.status.idle": "2022-10-04T11:52:54.097964Z",
     "shell.execute_reply": "2022-10-04T11:52:54.097158Z"
    },
    "hidden": true,
    "papermill": {
     "duration": 0.103655,
     "end_time": "2022-10-04T11:52:54.100053",
     "exception": false,
     "start_time": "2022-10-04T11:52:53.996398",
     "status": "completed"
    },
    "tags": []
   },
   "outputs": [],
   "source": [
    "df['LogFare'] = np.log(df['Fare']+1)"
   ]
  },
  {
   "cell_type": "markdown",
   "id": "848d078a",
   "metadata": {
    "hidden": true,
    "papermill": {
     "duration": 0.096893,
     "end_time": "2022-10-04T11:52:54.296748",
     "exception": false,
     "start_time": "2022-10-04T11:52:54.199855",
     "status": "completed"
    },
    "tags": []
   },
   "source": [
    "The histogram now shows a more even distribution of values without the long tail:"
   ]
  },
  {
   "cell_type": "code",
   "execution_count": 11,
   "id": "b478f56d",
   "metadata": {
    "execution": {
     "iopub.execute_input": "2022-10-04T11:52:54.492142Z",
     "iopub.status.busy": "2022-10-04T11:52:54.491863Z",
     "iopub.status.idle": "2022-10-04T11:52:54.708735Z",
     "shell.execute_reply": "2022-10-04T11:52:54.707934Z"
    },
    "hidden": true,
    "papermill": {
     "duration": 0.316858,
     "end_time": "2022-10-04T11:52:54.710700",
     "exception": false,
     "start_time": "2022-10-04T11:52:54.393842",
     "status": "completed"
    },
    "tags": []
   },
   "outputs": [
    {
     "data": {
      "image/png": "[encoded data removed]",
      "text/plain": [
       "<Figure size 432x288 with 1 Axes>"
      ]
     },
     "metadata": {
      "needs_background": "light"
     },
     "output_type": "display_data"
    }
   ],
   "source": [
    "df['LogFare'].hist();"
   ]
  },
  {
   "cell_type": "markdown",
   "id": "35479d51",
   "metadata": {
    "hidden": true,
    "papermill": {
     "duration": 0.096728,
     "end_time": "2022-10-04T11:52:54.904462",
     "exception": false,
     "start_time": "2022-10-04T11:52:54.807734",
     "status": "completed"
    },
    "tags": []
   },
   "source": [
    "It looks from the `describe()` output like `Pclass` contains just 3 values, which we can confirm by looking at the [Data Dictionary](https://www.kaggle.com/competitions/titanic/data) (which you should always study carefully for any project!) -- "
   ]
  },
  {
   "cell_type": "code",
   "execution_count": 12,
   "id": "976abc9f",
   "metadata": {
    "execution": {
     "iopub.execute_input": "2022-10-04T11:52:55.100419Z",
     "iopub.status.busy": "2022-10-04T11:52:55.099716Z",
     "iopub.status.idle": "2022-10-04T11:52:55.108485Z",
     "shell.execute_reply": "2022-10-04T11:52:55.107780Z"
    },
    "hidden": true,
    "papermill": {
     "duration": 0.10933,
     "end_time": "2022-10-04T11:52:55.110236",
     "exception": false,
     "start_time": "2022-10-04T11:52:55.000906",
     "status": "completed"
    },
    "tags": []
   },
   "outputs": [
    {
     "data": {
      "text/plain": [
       "[1, 2, 3]"
      ]
     },
     "execution_count": 12,
     "metadata": {},
     "output_type": "execute_result"
    }
   ],
   "source": [
    "pclasses = sorted(df.Pclass.unique())\n",
    "pclasses"
   ]
  },
  {
   "cell_type": "markdown",
   "id": "5ed9abb5",
   "metadata": {
    "hidden": true,
    "papermill": {
     "duration": 0.098037,
     "end_time": "2022-10-04T11:52:55.306534",
     "exception": false,
     "start_time": "2022-10-04T11:52:55.208497",
     "status": "completed"
    },
    "tags": []
   },
   "source": [
    "Here's how we get a quick summary of all the non-numeric columns in the dataset:"
   ]
  },
  {
   "cell_type": "code",
   "execution_count": 13,
   "id": "908c8fa1",
   "metadata": {
    "execution": {
     "iopub.execute_input": "2022-10-04T11:52:55.500815Z",
     "iopub.status.busy": "2022-10-04T11:52:55.500555Z",
     "iopub.status.idle": "2022-10-04T11:52:55.519268Z",
     "shell.execute_reply": "2022-10-04T11:52:55.518470Z"
    },
    "hidden": true,
    "papermill": {
     "duration": 0.118057,
     "end_time": "2022-10-04T11:52:55.521116",
     "exception": false,
     "start_time": "2022-10-04T11:52:55.403059",
     "status": "completed"
    },
    "tags": []
   },
   "outputs": [
    {
     "data": {
      "text/html": [
       "<div>\n",
       "<style scoped>\n",
       "    .dataframe tbody tr th:only-of-type {\n",
       "        vertical-align: middle;\n",
       "    }\n",
       "\n",
       "    .dataframe tbody tr th {\n",
       "        vertical-align: top;\n",
       "    }\n",
       "\n",
       "    .dataframe thead th {\n",
       "        text-align: right;\n",
       "    }\n",
       "</style>\n",
       "<table border=\"1\" class=\"dataframe\">\n",
       "  <thead>\n",
       "    <tr style=\"text-align: right;\">\n",
       "      <th></th>\n",
       "      <th>Name</th>\n",
       "      <th>Sex</th>\n",
       "      <th>Ticket</th>\n",
       "      <th>Cabin</th>\n",
       "      <th>Embarked</th>\n",
       "    </tr>\n",
       "  </thead>\n",
       "  <tbody>\n",
       "    <tr>\n",
       "      <th>count</th>\n",
       "      <td>891</td>\n",
       "      <td>891</td>\n",
       "      <td>891</td>\n",
       "      <td>891</td>\n",
       "      <td>891</td>\n",
       "    </tr>\n",
       "    <tr>\n",
       "      <th>unique</th>\n",
       "      <td>891</td>\n",
       "      <td>2</td>\n",
       "      <td>681</td>\n",
       "      <td>147</td>\n",
       "      <td>3</td>\n",
       "    </tr>\n",
       "    <tr>\n",
       "      <th>top</th>\n",
       "      <td>Braund, Mr. Owen Harris</td>\n",
       "      <td>male</td>\n",
       "      <td>347082</td>\n",
       "      <td>B96 B98</td>\n",
       "      <td>S</td>\n",
       "    </tr>\n",
       "    <tr>\n",
       "      <th>freq</th>\n",
       "      <td>1</td>\n",
       "      <td>577</td>\n",
       "      <td>7</td>\n",
       "      <td>691</td>\n",
       "      <td>646</td>\n",
       "    </tr>\n",
       "  </tbody>\n",
       "</table>\n",
       "</div>"
      ],
      "text/plain": [
       "                           Name   Sex  Ticket    Cabin Embarked\n",
       "count                       891   891     891      891      891\n",
       "unique                      891     2     681      147        3\n",
       "top     Braund, Mr. Owen Harris  male  347082  B96 B98        S\n",
       "freq                          1   577       7      691      646"
      ]
     },
     "execution_count": 13,
     "metadata": {},
     "output_type": "execute_result"
    }
   ],
   "source": [
    "df.describe(include=[object])"
   ]
  },
  {
   "cell_type": "markdown",
   "id": "e0a5a882",
   "metadata": {
    "hidden": true,
    "papermill": {
     "duration": 0.097244,
     "end_time": "2022-10-04T11:52:55.716256",
     "exception": false,
     "start_time": "2022-10-04T11:52:55.619012",
     "status": "completed"
    },
    "tags": []
   },
   "source": [
    "Clearly we can't multiply strings like `male` or `S` by coefficients, so we need to replace those with numbers.\n",
    "\n",
    "We do that by creating new columns containing *dummy variables*. A dummy variable is a column that contains a `1` where a particular column contains a particular value, or a `0` otherwise. For instance, we could create a dummy variable for `Sex='male'`, which would be a new column containing `1` for rows where `Sex` is `'male'`, and 0 for rows where it isn't.\n",
    "\n",
    "Pandas can create these automatically using `get_dummies`, which also remove the original columns. We'll create dummy variables for `Pclass`, even although it's numeric, since the numbers `1`, `2`, and `3` correspond to first, second, and third class cabins - not to counts or measures that make sense to multiply by. We'll also create dummies for `Sex` and `Embarked` since we'll want to use those as predictors in our model. On the other hand, `Cabin`, `Name`, and `Ticket` have too many unique values for it to make sense creating dummy variables for them."
   ]
  },
  {
   "cell_type": "code",
   "execution_count": 14,
   "id": "4af96946",
   "metadata": {
    "execution": {
     "iopub.execute_input": "2022-10-04T11:52:55.913319Z",
     "iopub.status.busy": "2022-10-04T11:52:55.912590Z",
     "iopub.status.idle": "2022-10-04T11:52:55.925705Z",
     "shell.execute_reply": "2022-10-04T11:52:55.924962Z"
    },
    "hidden": true,
    "papermill": {
     "duration": 0.113235,
     "end_time": "2022-10-04T11:52:55.927405",
     "exception": false,
     "start_time": "2022-10-04T11:52:55.814170",
     "status": "completed"
    },
    "tags": []
   },
   "outputs": [
    {
     "data": {
      "text/plain": [
       "Index(['PassengerId', 'Survived', 'Name', 'Age', 'SibSp', 'Parch', 'Ticket', 'Fare', 'Cabin', 'LogFare', 'Sex_male', 'Pclass_2',\n",
       "       'Pclass_3', 'Embarked_Q', 'Embarked_S'],\n",
       "      dtype='object')"
      ]
     },
     "execution_count": 14,
     "metadata": {},
     "output_type": "execute_result"
    }
   ],
   "source": [
    "df = pd.get_dummies(df, columns=[\"Sex\",\"Pclass\",\"Embarked\"],drop_first=True)\n",
    "df.columns"
   ]
  },
  {
   "cell_type": "markdown",
   "id": "6d5d25e6",
   "metadata": {
    "hidden": true,
    "papermill": {
     "duration": 0.09738,
     "end_time": "2022-10-04T11:52:56.126204",
     "exception": false,
     "start_time": "2022-10-04T11:52:56.028824",
     "status": "completed"
    },
    "tags": []
   },
   "source": [
    "We can see that 5 columns have been added to the end -- one for each of the possible values of each of the three columns we requested, and that those three requested columns have been removed.\n",
    "\n",
    "Here's what the first few rows of those newly added columns look like:"
   ]
  },
  {
   "cell_type": "code",
   "execution_count": 15,
   "id": "1ffbae0f",
   "metadata": {
    "execution": {
     "iopub.execute_input": "2022-10-04T11:52:56.325089Z",
     "iopub.status.busy": "2022-10-04T11:52:56.324830Z",
     "iopub.status.idle": "2022-10-04T11:52:56.335939Z",
     "shell.execute_reply": "2022-10-04T11:52:56.335160Z"
    },
    "hidden": true,
    "papermill": {
     "duration": 0.112238,
     "end_time": "2022-10-04T11:52:56.337812",
     "exception": false,
     "start_time": "2022-10-04T11:52:56.225574",
     "status": "completed"
    },
    "tags": []
   },
   "outputs": [
    {
     "data": {
      "text/html": [
       "<div>\n",
       "<style scoped>\n",
       "    .dataframe tbody tr th:only-of-type {\n",
       "        vertical-align: middle;\n",
       "    }\n",
       "\n",
       "    .dataframe tbody tr th {\n",
       "        vertical-align: top;\n",
       "    }\n",
       "\n",
       "    .dataframe thead th {\n",
       "        text-align: right;\n",
       "    }\n",
       "</style>\n",
       "<table border=\"1\" class=\"dataframe\">\n",
       "  <thead>\n",
       "    <tr style=\"text-align: right;\">\n",
       "      <th></th>\n",
       "      <th>Sex_male</th>\n",
       "      <th>Pclass_2</th>\n",
       "      <th>Pclass_3</th>\n",
       "      <th>Embarked_Q</th>\n",
       "      <th>Embarked_S</th>\n",
       "    </tr>\n",
       "  </thead>\n",
       "  <tbody>\n",
       "    <tr>\n",
       "      <th>0</th>\n",
       "      <td>1</td>\n",
       "      <td>0</td>\n",
       "      <td>1</td>\n",
       "      <td>0</td>\n",
       "      <td>1</td>\n",
       "    </tr>\n",
       "    <tr>\n",
       "      <th>1</th>\n",
       "      <td>0</td>\n",
       "      <td>0</td>\n",
       "      <td>0</td>\n",
       "      <td>0</td>\n",
       "      <td>0</td>\n",
       "    </tr>\n",
       "    <tr>\n",
       "      <th>2</th>\n",
       "      <td>0</td>\n",
       "      <td>0</td>\n",
       "      <td>1</td>\n",
       "      <td>0</td>\n",
       "      <td>1</td>\n",
       "    </tr>\n",
       "    <tr>\n",
       "      <th>3</th>\n",
       "      <td>0</td>\n",
       "      <td>0</td>\n",
       "      <td>0</td>\n",
       "      <td>0</td>\n",
       "      <td>1</td>\n",
       "    </tr>\n",
       "    <tr>\n",
       "      <th>4</th>\n",
       "      <td>1</td>\n",
       "      <td>0</td>\n",
       "      <td>1</td>\n",
       "      <td>0</td>\n",
       "      <td>1</td>\n",
       "    </tr>\n",
       "  </tbody>\n",
       "</table>\n",
       "</div>"
      ],
      "text/plain": [
       "   Sex_male  Pclass_2  Pclass_3  Embarked_Q  Embarked_S\n",
       "0         1         0         1           0           1\n",
       "1         0         0         0           0           0\n",
       "2         0         0         1           0           1\n",
       "3         0         0         0           0           1\n",
       "4         1         0         1           0           1"
      ]
     },
     "execution_count": 15,
     "metadata": {},
     "output_type": "execute_result"
    }
   ],
   "source": [
    "added_cols = ['Sex_male', 'Pclass_2', 'Pclass_3', 'Embarked_Q', 'Embarked_S']\n",
    "df[added_cols].head()"
   ]
  },
  {
   "cell_type": "markdown",
   "id": "70a4d95e",
   "metadata": {
    "hidden": true,
    "papermill": {
     "duration": 0.0968,
     "end_time": "2022-10-04T11:52:56.531999",
     "exception": false,
     "start_time": "2022-10-04T11:52:56.435199",
     "status": "completed"
    },
    "tags": []
   },
   "source": [
    "Now we can create our independent (predictors) and dependent (target) variables. They both need to be PyTorch tensors. Our dependent variable is `Survived`:"
   ]
  },
  {
   "cell_type": "code",
   "execution_count": 16,
   "id": "67d0d64c",
   "metadata": {
    "execution": {
     "iopub.execute_input": "2022-10-04T11:52:56.728145Z",
     "iopub.status.busy": "2022-10-04T11:52:56.727857Z",
     "iopub.status.idle": "2022-10-04T11:52:56.740791Z",
     "shell.execute_reply": "2022-10-04T11:52:56.740147Z"
    },
    "hidden": true,
    "papermill": {
     "duration": 0.113171,
     "end_time": "2022-10-04T11:52:56.742477",
     "exception": false,
     "start_time": "2022-10-04T11:52:56.629306",
     "status": "completed"
    },
    "tags": []
   },
   "outputs": [],
   "source": [
    "from torch import tensor\n",
    "\n",
    "t_dep = tensor(df.Survived)"
   ]
  },
  {
   "cell_type": "markdown",
   "id": "1e33b1b2",
   "metadata": {
    "hidden": true,
    "papermill": {
     "duration": 0.096907,
     "end_time": "2022-10-04T11:52:56.937424",
     "exception": false,
     "start_time": "2022-10-04T11:52:56.840517",
     "status": "completed"
    },
    "tags": []
   },
   "source": [
    "Our independent variables are all the continuous variables of interest plus all the dummy variables we just created:"
   ]
  },
  {
   "cell_type": "code",
   "execution_count": 17,
   "id": "4bfa61a6",
   "metadata": {
    "execution": {
     "iopub.execute_input": "2022-10-04T11:52:57.133899Z",
     "iopub.status.busy": "2022-10-04T11:52:57.133628Z",
     "iopub.status.idle": "2022-10-04T11:52:57.199768Z",
     "shell.execute_reply": "2022-10-04T11:52:57.199076Z"
    },
    "hidden": true,
    "papermill": {
     "duration": 0.166948,
     "end_time": "2022-10-04T11:52:57.201596",
     "exception": false,
     "start_time": "2022-10-04T11:52:57.034648",
     "status": "completed"
    },
    "tags": []
   },
   "outputs": [
    {
     "data": {
      "text/plain": [
       "tensor([[22.0000,  1.0000,  0.0000,  2.1102,  1.0000,  0.0000,  1.0000,  0.0000,  1.0000],\n",
       "        [38.0000,  1.0000,  0.0000,  4.2806,  0.0000,  0.0000,  0.0000,  0.0000,  0.0000],\n",
       "        [26.0000,  0.0000,  0.0000,  2.1889,  0.0000,  0.0000,  1.0000,  0.0000,  1.0000],\n",
       "        [35.0000,  1.0000,  0.0000,  3.9908,  0.0000,  0.0000,  0.0000,  0.0000,  1.0000],\n",
       "        [35.0000,  0.0000,  0.0000,  2.2028,  1.0000,  0.0000,  1.0000,  0.0000,  1.0000],\n",
       "        [24.0000,  0.0000,  0.0000,  2.2469,  1.0000,  0.0000,  1.0000,  1.0000,  0.0000],\n",
       "        [54.0000,  0.0000,  0.0000,  3.9677,  1.0000,  0.0000,  0.0000,  0.0000,  1.0000],\n",
       "        ...,\n",
       "        [25.0000,  0.0000,  0.0000,  2.0857,  1.0000,  0.0000,  1.0000,  0.0000,  1.0000],\n",
       "        [39.0000,  0.0000,  5.0000,  3.4054,  0.0000,  0.0000,  1.0000,  1.0000,  0.0000],\n",
       "        [27.0000,  0.0000,  0.0000,  2.6391,  1.0000,  1.0000,  0.0000,  0.0000,  1.0000],\n",
       "        [19.0000,  0.0000,  0.0000,  3.4340,  0.0000,  0.0000,  0.0000,  0.0000,  1.0000],\n",
       "        [24.0000,  1.0000,  2.0000,  3.1966,  0.0000,  0.0000,  1.0000,  0.0000,  1.0000],\n",
       "        [26.0000,  0.0000,  0.0000,  3.4340,  1.0000,  0.0000,  0.0000,  0.0000,  0.0000],\n",
       "        [32.0000,  0.0000,  0.0000,  2.1691,  1.0000,  0.0000,  1.0000,  1.0000,  0.0000]])"
      ]
     },
     "execution_count": 17,
     "metadata": {},
     "output_type": "execute_result"
    }
   ],
   "source": [
    "indep_cols = ['Age', 'SibSp', 'Parch', 'LogFare'] + added_cols\n",
    "\n",
    "t_indep = tensor(df[indep_cols].values, dtype=torch.float)\n",
    "t_indep"
   ]
  },
  {
   "cell_type": "markdown",
   "id": "c6ea56d8",
   "metadata": {
    "hidden": true,
    "papermill": {
     "duration": 0.097807,
     "end_time": "2022-10-04T11:52:57.399488",
     "exception": false,
     "start_time": "2022-10-04T11:52:57.301681",
     "status": "completed"
    },
    "tags": []
   },
   "source": [
    "Here's the number of rows and columns we have for our independent variables:"
   ]
  },
  {
   "cell_type": "code",
   "execution_count": 18,
   "id": "5e3246ab",
   "metadata": {
    "execution": {
     "iopub.execute_input": "2022-10-04T11:52:57.597468Z",
     "iopub.status.busy": "2022-10-04T11:52:57.597203Z",
     "iopub.status.idle": "2022-10-04T11:52:57.602131Z",
     "shell.execute_reply": "2022-10-04T11:52:57.601463Z"
    },
    "hidden": true,
    "papermill": {
     "duration": 0.105233,
     "end_time": "2022-10-04T11:52:57.603855",
     "exception": false,
     "start_time": "2022-10-04T11:52:57.498622",
     "status": "completed"
    },
    "tags": []
   },
   "outputs": [
    {
     "data": {
      "text/plain": [
       "torch.Size([891, 9])"
      ]
     },
     "execution_count": 18,
     "metadata": {},
     "output_type": "execute_result"
    }
   ],
   "source": [
    "t_indep.shape"
   ]
  },
  {
   "cell_type": "markdown",
   "id": "bcf90c93",
   "metadata": {
    "papermill": {
     "duration": 0.098257,
     "end_time": "2022-10-04T11:52:57.801461",
     "exception": false,
     "start_time": "2022-10-04T11:52:57.703204",
     "status": "completed"
    },
    "tags": []
   },
   "source": [
    "## Setting up a linear model"
   ]
  },
  {
   "cell_type": "markdown",
   "id": "960bc8fc",
   "metadata": {
    "papermill": {
     "duration": 0.10023,
     "end_time": "2022-10-04T11:52:58.002377",
     "exception": false,
     "start_time": "2022-10-04T11:52:57.902147",
     "status": "completed"
    },
    "tags": []
   },
   "source": [
    "Now that we've got a matrix of independent variables and a dependent variable vector, we can work on calculating our predictions and our loss. In this section, we're going to manually do a single step of calculating predictions and loss for every row of our data.\n",
    "\n",
    "Our first model will be a simple linear model. We'll need a coefficient for each column in `t_indep`. We'll pick random numbers in the range `(-0.5,0.5)`, and set our manual seed so that my explanations in the prose in this notebook will be consistent with what you see when you run it."
   ]
  },
  {
   "cell_type": "code",
   "execution_count": 19,
   "id": "d19cc4f9",
   "metadata": {
    "execution": {
     "iopub.execute_input": "2022-10-04T11:52:58.203560Z",
     "iopub.status.busy": "2022-10-04T11:52:58.203283Z",
     "iopub.status.idle": "2022-10-04T11:52:58.218366Z",
     "shell.execute_reply": "2022-10-04T11:52:58.217627Z"
    },
    "papermill": {
     "duration": 0.119273,
     "end_time": "2022-10-04T11:52:58.220176",
     "exception": false,
     "start_time": "2022-10-04T11:52:58.100903",
     "status": "completed"
    },
    "tags": []
   },
   "outputs": [
    {
     "data": {
      "text/plain": [
       "tensor([-0.4629,  0.1386,  0.2409, -0.2262, -0.2632, -0.3147,  0.4876,  0.3136,  0.2799])"
      ]
     },
     "execution_count": 19,
     "metadata": {},
     "output_type": "execute_result"
    }
   ],
   "source": [
    "torch.manual_seed(442)\n",
    "\n",
    "n_coeff = t_indep.shape[1]\n",
    "coeffs = torch.rand(n_coeff)-0.5\n",
    "coeffs"
   ]
  },
  {
   "cell_type": "markdown",
   "id": "c6cd88ec",
   "metadata": {
    "papermill": {
     "duration": 0.098069,
     "end_time": "2022-10-04T11:52:58.428224",
     "exception": false,
     "start_time": "2022-10-04T11:52:58.330155",
     "status": "completed"
    },
    "tags": []
   },
   "source": [
    "Our predictions will be calculated by multiplying each row by the coefficients, and adding them up. One interesting point here is that we don't need a separate constant term (also known as a \"bias\" or \"intercept\" term), or a column of all `1`s to give the same effect has having a constant term. That's because our dummy variables already cover the entire dataset -- e.g. there's a column for \"male\" and a column for \"female\", and everyone in the dataset is in exactly one of these; therefore, we don't need a separate intercept term to cover rows that aren't otherwise part of a column.\n",
    "\n",
    "Here's what the multiplication looks like:"
   ]
  },
  {
   "cell_type": "code",
   "execution_count": 20,
   "id": "4907bbe2",
   "metadata": {
    "execution": {
     "iopub.execute_input": "2022-10-04T11:52:58.627058Z",
     "iopub.status.busy": "2022-10-04T11:52:58.626788Z",
     "iopub.status.idle": "2022-10-04T11:52:58.633831Z",
     "shell.execute_reply": "2022-10-04T11:52:58.633136Z"
    },
    "papermill": {
     "duration": 0.108419,
     "end_time": "2022-10-04T11:52:58.635535",
     "exception": false,
     "start_time": "2022-10-04T11:52:58.527116",
     "status": "completed"
    },
    "tags": []
   },
   "outputs": [
    {
     "data": {
      "text/plain": [
       "tensor([[-10.1838,   0.1386,   0.0000,  -0.4772,  -0.2632,  -0.0000,   0.4876,   0.0000,   0.2799],\n",
       "        [-17.5902,   0.1386,   0.0000,  -0.9681,  -0.0000,  -0.0000,   0.0000,   0.0000,   0.0000],\n",
       "        [-12.0354,   0.0000,   0.0000,  -0.4950,  -0.0000,  -0.0000,   0.4876,   0.0000,   0.2799],\n",
       "        [-16.2015,   0.1386,   0.0000,  -0.9025,  -0.0000,  -0.0000,   0.0000,   0.0000,   0.2799],\n",
       "        [-16.2015,   0.0000,   0.0000,  -0.4982,  -0.2632,  -0.0000,   0.4876,   0.0000,   0.2799],\n",
       "        [-11.1096,   0.0000,   0.0000,  -0.5081,  -0.2632,  -0.0000,   0.4876,   0.3136,   0.0000],\n",
       "        [-24.9966,   0.0000,   0.0000,  -0.8973,  -0.2632,  -0.0000,   0.0000,   0.0000,   0.2799],\n",
       "        ...,\n",
       "        [-11.5725,   0.0000,   0.0000,  -0.4717,  -0.2632,  -0.0000,   0.4876,   0.0000,   0.2799],\n",
       "        [-18.0531,   0.0000,   1.2045,  -0.7701,  -0.0000,  -0.0000,   0.4876,   0.3136,   0.0000],\n",
       "        [-12.4983,   0.0000,   0.0000,  -0.5968,  -0.2632,  -0.3147,   0.0000,   0.0000,   0.2799],\n",
       "        [ -8.7951,   0.0000,   0.0000,  -0.7766,  -0.0000,  -0.0000,   0.0000,   0.0000,   0.2799],\n",
       "        [-11.1096,   0.1386,   0.4818,  -0.7229,  -0.0000,  -0.0000,   0.4876,   0.0000,   0.2799],\n",
       "        [-12.0354,   0.0000,   0.0000,  -0.7766,  -0.2632,  -0.0000,   0.0000,   0.0000,   0.0000],\n",
       "        [-14.8128,   0.0000,   0.0000,  -0.4905,  -0.2632,  -0.0000,   0.4876,   0.3136,   0.0000]])"
      ]
     },
     "execution_count": 20,
     "metadata": {},
     "output_type": "execute_result"
    }
   ],
   "source": [
    "t_indep*coeffs"
   ]
  },
  {
   "cell_type": "markdown",
   "id": "ec36cb2f",
   "metadata": {
    "papermill": {
     "duration": 0.100257,
     "end_time": "2022-10-04T11:52:58.834790",
     "exception": false,
     "start_time": "2022-10-04T11:52:58.734533",
     "status": "completed"
    },
    "tags": []
   },
   "source": [
    "We can see we've got a problem here. The sums of each row will be dominated by the first column, which is `Age`, since that's bigger on average than all the others.\n",
    "\n",
    "Let's make all the columns contain numbers from `0` to `1`, by dividing each column by its `max()`:"
   ]
  },
  {
   "cell_type": "code",
   "execution_count": 21,
   "id": "d295be65",
   "metadata": {
    "execution": {
     "iopub.execute_input": "2022-10-04T11:52:59.036182Z",
     "iopub.status.busy": "2022-10-04T11:52:59.035472Z",
     "iopub.status.idle": "2022-10-04T11:52:59.043841Z",
     "shell.execute_reply": "2022-10-04T11:52:59.043090Z"
    },
    "papermill": {
     "duration": 0.111316,
     "end_time": "2022-10-04T11:52:59.045498",
     "exception": false,
     "start_time": "2022-10-04T11:52:58.934182",
     "status": "completed"
    },
    "tags": []
   },
   "outputs": [
    {
     "data": {
      "text/plain": [
       "tensor([80.0000,  8.0000,  6.0000,  6.2409,  1.0000,  1.0000,  1.0000,  1.0000,  1.0000])"
      ]
     },
     "execution_count": 21,
     "metadata": {},
     "output_type": "execute_result"
    }
   ],
   "source": [
    "vals,indices = t_indep.max(dim=0)\n",
    "\n",
    "t_indep = t_indep / vals\n",
    "\n",
    "vals"
   ]
  },
  {
   "cell_type": "markdown",
   "id": "74974310",
   "metadata": {
    "papermill": {
     "duration": 0.100367,
     "end_time": "2022-10-04T11:52:59.247017",
     "exception": false,
     "start_time": "2022-10-04T11:52:59.146650",
     "status": "completed"
    },
    "tags": []
   },
   "source": [
    "As we see, that removes the problem of one column dominating all the others:"
   ]
  },
  {
   "cell_type": "code",
   "execution_count": 22,
   "id": "a76a450a",
   "metadata": {
    "execution": {
     "iopub.execute_input": "2022-10-04T11:52:59.448685Z",
     "iopub.status.busy": "2022-10-04T11:52:59.448426Z",
     "iopub.status.idle": "2022-10-04T11:52:59.455349Z",
     "shell.execute_reply": "2022-10-04T11:52:59.454649Z"
    },
    "papermill": {
     "duration": 0.109185,
     "end_time": "2022-10-04T11:52:59.456984",
     "exception": false,
     "start_time": "2022-10-04T11:52:59.347799",
     "status": "completed"
    },
    "tags": []
   },
   "outputs": [
    {
     "data": {
      "text/plain": [
       "tensor([[-0.1273,  0.0173,  0.0000, -0.0765, -0.2632, -0.0000,  0.4876,  0.0000,  0.2799],\n",
       "        [-0.2199,  0.0173,  0.0000, -0.1551, -0.0000, -0.0000,  0.0000,  0.0000,  0.0000],\n",
       "        [-0.1504,  0.0000,  0.0000, -0.0793, -0.0000, -0.0000,  0.4876,  0.0000,  0.2799],\n",
       "        [-0.2025,  0.0173,  0.0000, -0.1446, -0.0000, -0.0000,  0.0000,  0.0000,  0.2799],\n",
       "        [-0.2025,  0.0000,  0.0000, -0.0798, -0.2632, -0.0000,  0.4876,  0.0000,  0.2799],\n",
       "        [-0.1389,  0.0000,  0.0000, -0.0814, -0.2632, -0.0000,  0.4876,  0.3136,  0.0000],\n",
       "        [-0.3125,  0.0000,  0.0000, -0.1438, -0.2632, -0.0000,  0.0000,  0.0000,  0.2799],\n",
       "        ...,\n",
       "        [-0.1447,  0.0000,  0.0000, -0.0756, -0.2632, -0.0000,  0.4876,  0.0000,  0.2799],\n",
       "        [-0.2257,  0.0000,  0.2008, -0.1234, -0.0000, -0.0000,  0.4876,  0.3136,  0.0000],\n",
       "        [-0.1562,  0.0000,  0.0000, -0.0956, -0.2632, -0.3147,  0.0000,  0.0000,  0.2799],\n",
       "        [-0.1099,  0.0000,  0.0000, -0.1244, -0.0000, -0.0000,  0.0000,  0.0000,  0.2799],\n",
       "        [-0.1389,  0.0173,  0.0803, -0.1158, -0.0000, -0.0000,  0.4876,  0.0000,  0.2799],\n",
       "        [-0.1504,  0.0000,  0.0000, -0.1244, -0.2632, -0.0000,  0.0000,  0.0000,  0.0000],\n",
       "        [-0.1852,  0.0000,  0.0000, -0.0786, -0.2632, -0.0000,  0.4876,  0.3136,  0.0000]])"
      ]
     },
     "execution_count": 22,
     "metadata": {},
     "output_type": "execute_result"
    }
   ],
   "source": [
    "t_indep*coeffs"
   ]
  },
  {
   "cell_type": "markdown",
   "id": "36a4b27c",
   "metadata": {
    "papermill": {
     "duration": 0.0991,
     "end_time": "2022-10-04T11:52:59.655775",
     "exception": false,
     "start_time": "2022-10-04T11:52:59.556675",
     "status": "completed"
    },
    "tags": []
   },
   "source": [
    "One thing you hopefully noticed is how amazingly cool this line of code is:\n",
    "\n",
    "    t_indep = t_indep / vals\n",
    "\n",
    "That is dividing a matrix by a vector -- what on earth does that mean?!? The trick here is that we're taking advantage of a technique in numpy and PyTorch (and many other languages, going all the way back to APL) called [broadcasting](https://numpy.org/doc/stable/user/basics.broadcasting.html). In short, this acts as if there's a separate copy of the vector for every row of the matrix, so it divides each row of the matrix by the vector. In practice, it doesn't actually make any copies, and does the whole thing in a highly optimized way, taking full advantage of modern CPUs (or, indeed, GPUs, if we're using them). Broadcasting is one of the most important techniques for making your code concise, maintainable, and fast, so it's well worth studying and practicing.\n",
    "\n",
    "We can now create predictions from our linear model, by adding up the rows of the product:"
   ]
  },
  {
   "cell_type": "code",
   "execution_count": 23,
   "id": "fbec2ce1",
   "metadata": {
    "execution": {
     "iopub.execute_input": "2022-10-04T11:52:59.857466Z",
     "iopub.status.busy": "2022-10-04T11:52:59.857206Z",
     "iopub.status.idle": "2022-10-04T11:52:59.863888Z",
     "shell.execute_reply": "2022-10-04T11:52:59.863259Z"
    },
    "papermill": {
     "duration": 0.109365,
     "end_time": "2022-10-04T11:52:59.865583",
     "exception": false,
     "start_time": "2022-10-04T11:52:59.756218",
     "status": "completed"
    },
    "tags": []
   },
   "outputs": [],
   "source": [
    "preds = (t_indep*coeffs).sum(axis=1)"
   ]
  },
  {
   "cell_type": "markdown",
   "id": "5a788897",
   "metadata": {
    "papermill": {
     "duration": 0.101007,
     "end_time": "2022-10-04T11:53:00.066131",
     "exception": false,
     "start_time": "2022-10-04T11:52:59.965124",
     "status": "completed"
    },
    "tags": []
   },
   "source": [
    "Let's take a look at the first few:"
   ]
  },
  {
   "cell_type": "code",
   "execution_count": 24,
   "id": "d0b29b98",
   "metadata": {
    "execution": {
     "iopub.execute_input": "2022-10-04T11:53:00.272067Z",
     "iopub.status.busy": "2022-10-04T11:53:00.271786Z",
     "iopub.status.idle": "2022-10-04T11:53:00.279201Z",
     "shell.execute_reply": "2022-10-04T11:53:00.278463Z"
    },
    "papermill": {
     "duration": 0.112238,
     "end_time": "2022-10-04T11:53:00.280892",
     "exception": false,
     "start_time": "2022-10-04T11:53:00.168654",
     "status": "completed"
    },
    "tags": []
   },
   "outputs": [
    {
     "data": {
      "text/plain": [
       "tensor([ 0.3178, -0.3577,  0.5377, -0.0499,  0.2219,  0.3176, -0.4396,  0.4727,  0.6011, -0.5029])"
      ]
     },
     "execution_count": 24,
     "metadata": {},
     "output_type": "execute_result"
    }
   ],
   "source": [
    "preds[:10]"
   ]
  },
  {
   "cell_type": "markdown",
   "id": "2be51ce9",
   "metadata": {
    "papermill": {
     "duration": 0.101551,
     "end_time": "2022-10-04T11:53:00.485974",
     "exception": false,
     "start_time": "2022-10-04T11:53:00.384423",
     "status": "completed"
    },
    "tags": []
   },
   "source": [
    "Of course, these predictions aren't going to be any use, since our coefficients are random -- they're just a starting point for our gradient descent process.\n",
    "\n",
    "To do gradient descent, we need a loss function. Taking the average error of the rows (i.e. the absolute value of the difference between the prediction and the dependent) is generally a reasonable approach:"
   ]
  },
  {
   "cell_type": "code",
   "execution_count": 25,
   "id": "ce138429",
   "metadata": {
    "execution": {
     "iopub.execute_input": "2022-10-04T11:53:00.688315Z",
     "iopub.status.busy": "2022-10-04T11:53:00.687587Z",
     "iopub.status.idle": "2022-10-04T11:53:00.698589Z",
     "shell.execute_reply": "2022-10-04T11:53:00.697833Z"
    },
    "papermill": {
     "duration": 0.114155,
     "end_time": "2022-10-04T11:53:00.700382",
     "exception": false,
     "start_time": "2022-10-04T11:53:00.586227",
     "status": "completed"
    },
    "tags": []
   },
   "outputs": [
    {
     "data": {
      "text/plain": [
       "tensor(0.6344)"
      ]
     },
     "execution_count": 25,
     "metadata": {},
     "output_type": "execute_result"
    }
   ],
   "source": [
    "loss = torch.abs(preds-t_dep).mean()\n",
    "loss"
   ]
  },
  {
   "cell_type": "markdown",
   "id": "9feb4010",
   "metadata": {
    "papermill": {
     "duration": 0.101467,
     "end_time": "2022-10-04T11:53:00.903550",
     "exception": false,
     "start_time": "2022-10-04T11:53:00.802083",
     "status": "completed"
    },
    "tags": []
   },
   "source": [
    "Now that we've tested out a way of calculating predictions, and loss, let's pop them into functions to make life easier:"
   ]
  },
  {
   "cell_type": "code",
   "execution_count": 26,
   "id": "12e64266",
   "metadata": {
    "execution": {
     "iopub.execute_input": "2022-10-04T11:53:01.108847Z",
     "iopub.status.busy": "2022-10-04T11:53:01.108148Z",
     "iopub.status.idle": "2022-10-04T11:53:01.112828Z",
     "shell.execute_reply": "2022-10-04T11:53:01.112023Z"
    },
    "papermill": {
     "duration": 0.110611,
     "end_time": "2022-10-04T11:53:01.114667",
     "exception": false,
     "start_time": "2022-10-04T11:53:01.004056",
     "status": "completed"
    },
    "tags": []
   },
   "outputs": [],
   "source": [
    "def calc_preds(coeffs, indeps): return (indeps*coeffs).sum(axis=1)\n",
    "def calc_loss(coeffs, indeps, deps): return torch.abs(calc_preds(coeffs, indeps)-deps).mean()"
   ]
  },
  {
   "cell_type": "markdown",
   "id": "afe02608",
   "metadata": {
    "papermill": {
     "duration": 0.138996,
     "end_time": "2022-10-04T11:53:01.358198",
     "exception": false,
     "start_time": "2022-10-04T11:53:01.219202",
     "status": "completed"
    },
    "tags": []
   },
   "source": [
    "## Doing a gradient descent step"
   ]
  },
  {
   "cell_type": "markdown",
   "id": "444e5b98",
   "metadata": {
    "papermill": {
     "duration": 0.165288,
     "end_time": "2022-10-04T11:53:01.737298",
     "exception": false,
     "start_time": "2022-10-04T11:53:01.572010",
     "status": "completed"
    },
    "tags": []
   },
   "source": [
    "In this section, we're going to do a single \"epoch\" of gradient descent manually. The only thing we're going to automate is calculating gradients, because let's face it that's pretty tedious and entirely pointless to do by hand! To get PyTorch to calculate gradients, we'll need to call `requires_grad_()` on our `coeffs` (if you're not sure why, review the previous notebook, [How does a neural net really work?](https://www.kaggle.com/code/jhoward/how-does-a-neural-net-really-work), before continuing):"
   ]
  },
  {
   "cell_type": "code",
   "execution_count": 27,
   "id": "491f6690",
   "metadata": {
    "execution": {
     "iopub.execute_input": "2022-10-04T11:53:02.017845Z",
     "iopub.status.busy": "2022-10-04T11:53:02.017228Z",
     "iopub.status.idle": "2022-10-04T11:53:02.023939Z",
     "shell.execute_reply": "2022-10-04T11:53:02.023185Z"
    },
    "papermill": {
     "duration": 0.126191,
     "end_time": "2022-10-04T11:53:02.025840",
     "exception": false,
     "start_time": "2022-10-04T11:53:01.899649",
     "status": "completed"
    },
    "tags": []
   },
   "outputs": [
    {
     "data": {
      "text/plain": [
       "tensor([-0.4629,  0.1386,  0.2409, -0.2262, -0.2632, -0.3147,  0.4876,  0.3136,  0.2799], requires_grad=True)"
      ]
     },
     "execution_count": 27,
     "metadata": {},
     "output_type": "execute_result"
    }
   ],
   "source": [
    "coeffs.requires_grad_()"
   ]
  },
  {
   "cell_type": "markdown",
   "id": "c3ebb34b",
   "metadata": {
    "papermill": {
     "duration": 0.109352,
     "end_time": "2022-10-04T11:53:02.247489",
     "exception": false,
     "start_time": "2022-10-04T11:53:02.138137",
     "status": "completed"
    },
    "tags": []
   },
   "source": [
    "Now when we calculate our loss, PyTorch will keep track of all the steps, so we'll be able to get the gradients afterwards:"
   ]
  },
  {
   "cell_type": "code",
   "execution_count": 28,
   "id": "10a409ba",
   "metadata": {
    "execution": {
     "iopub.execute_input": "2022-10-04T11:53:02.467656Z",
     "iopub.status.busy": "2022-10-04T11:53:02.466901Z",
     "iopub.status.idle": "2022-10-04T11:53:02.474890Z",
     "shell.execute_reply": "2022-10-04T11:53:02.474133Z"
    },
    "papermill": {
     "duration": 0.118967,
     "end_time": "2022-10-04T11:53:02.476707",
     "exception": false,
     "start_time": "2022-10-04T11:53:02.357740",
     "status": "completed"
    },
    "tags": []
   },
   "outputs": [
    {
     "data": {
      "text/plain": [
       "tensor(0.6344, grad_fn=<MeanBackward0>)"
      ]
     },
     "execution_count": 28,
     "metadata": {},
     "output_type": "execute_result"
    }
   ],
   "source": [
    "loss = calc_loss(coeffs, t_indep, t_dep)\n",
    "loss"
   ]
  },
  {
   "cell_type": "markdown",
   "id": "04d45a6d",
   "metadata": {
    "papermill": {
     "duration": 0.108008,
     "end_time": "2022-10-04T11:53:02.692369",
     "exception": false,
     "start_time": "2022-10-04T11:53:02.584361",
     "status": "completed"
    },
    "tags": []
   },
   "source": [
    "Use `backward()` to ask PyTorch to calculate gradients now:"
   ]
  },
  {
   "cell_type": "code",
   "execution_count": 29,
   "id": "d56403e8",
   "metadata": {
    "execution": {
     "iopub.execute_input": "2022-10-04T11:53:02.914182Z",
     "iopub.status.busy": "2022-10-04T11:53:02.913891Z",
     "iopub.status.idle": "2022-10-04T11:53:02.981450Z",
     "shell.execute_reply": "2022-10-04T11:53:02.980687Z"
    },
    "papermill": {
     "duration": 0.182303,
     "end_time": "2022-10-04T11:53:02.983482",
     "exception": false,
     "start_time": "2022-10-04T11:53:02.801179",
     "status": "completed"
    },
    "tags": []
   },
   "outputs": [],
   "source": [
    "loss.backward()"
   ]
  },
  {
   "cell_type": "markdown",
   "id": "cf5cb656",
   "metadata": {
    "papermill": {
     "duration": 0.109182,
     "end_time": "2022-10-04T11:53:03.201437",
     "exception": false,
     "start_time": "2022-10-04T11:53:03.092255",
     "status": "completed"
    },
    "tags": []
   },
   "source": [
    "Let's see what they look like:"
   ]
  },
  {
   "cell_type": "code",
   "execution_count": 30,
   "id": "e7961421",
   "metadata": {
    "execution": {
     "iopub.execute_input": "2022-10-04T11:53:03.418917Z",
     "iopub.status.busy": "2022-10-04T11:53:03.418209Z",
     "iopub.status.idle": "2022-10-04T11:53:03.424364Z",
     "shell.execute_reply": "2022-10-04T11:53:03.423602Z"
    },
    "papermill": {
     "duration": 0.115927,
     "end_time": "2022-10-04T11:53:03.426046",
     "exception": false,
     "start_time": "2022-10-04T11:53:03.310119",
     "status": "completed"
    },
    "tags": []
   },
   "outputs": [
    {
     "data": {
      "text/plain": [
       "tensor([-0.0994,  0.0048, -0.0086, -0.1497, -0.0034, -0.2065,  0.2548,  0.0146, -0.0808])"
      ]
     },
     "execution_count": 30,
     "metadata": {},
     "output_type": "execute_result"
    }
   ],
   "source": [
    "coeffs.grad"
   ]
  },
  {
   "cell_type": "markdown",
   "id": "dd2b0aac",
   "metadata": {
    "papermill": {
     "duration": 0.10736,
     "end_time": "2022-10-04T11:53:03.640750",
     "exception": false,
     "start_time": "2022-10-04T11:53:03.533390",
     "status": "completed"
    },
    "tags": []
   },
   "source": [
    "Note that each time we call `backward`, the gradients are actually *added* to whatever is in the `.grad` attribute. Let's try running the above steps again:"
   ]
  },
  {
   "cell_type": "code",
   "execution_count": 31,
   "id": "f771ecd1",
   "metadata": {
    "execution": {
     "iopub.execute_input": "2022-10-04T11:53:03.858141Z",
     "iopub.status.busy": "2022-10-04T11:53:03.857414Z",
     "iopub.status.idle": "2022-10-04T11:53:03.866202Z",
     "shell.execute_reply": "2022-10-04T11:53:03.865376Z"
    },
    "papermill": {
     "duration": 0.120068,
     "end_time": "2022-10-04T11:53:03.868017",
     "exception": false,
     "start_time": "2022-10-04T11:53:03.747949",
     "status": "completed"
    },
    "tags": []
   },
   "outputs": [
    {
     "data": {
      "text/plain": [
       "tensor([-0.1988,  0.0095, -0.0172, -0.2994, -0.0067, -0.4130,  0.5095,  0.0292, -0.1616])"
      ]
     },
     "execution_count": 31,
     "metadata": {},
     "output_type": "execute_result"
    }
   ],
   "source": [
    "loss = calc_loss(coeffs, t_indep, t_dep)\n",
    "loss.backward()\n",
    "coeffs.grad"
   ]
  },
  {
   "cell_type": "markdown",
   "id": "19b7c926",
   "metadata": {
    "papermill": {
     "duration": 0.108038,
     "end_time": "2022-10-04T11:53:04.083722",
     "exception": false,
     "start_time": "2022-10-04T11:53:03.975684",
     "status": "completed"
    },
    "tags": []
   },
   "source": [
    "As you see, our `.grad` values are have doubled. That's because it added the gradients a second time. For this reason, after we use the gradients to do a gradient descent step, we need to set them back to zero.\n",
    "\n",
    "We can now do one gradient descent step, and check that our loss decreases:"
   ]
  },
  {
   "cell_type": "code",
   "execution_count": 32,
   "id": "2c0dd387",
   "metadata": {
    "execution": {
     "iopub.execute_input": "2022-10-04T11:53:04.301935Z",
     "iopub.status.busy": "2022-10-04T11:53:04.301256Z",
     "iopub.status.idle": "2022-10-04T11:53:04.312689Z",
     "shell.execute_reply": "2022-10-04T11:53:04.311511Z"
    },
    "papermill": {
     "duration": 0.122444,
     "end_time": "2022-10-04T11:53:04.314614",
     "exception": false,
     "start_time": "2022-10-04T11:53:04.192170",
     "status": "completed"
    },
    "tags": []
   },
   "outputs": [
    {
     "name": "stdout",
     "output_type": "stream",
     "text": [
      "tensor(0.5920)\n"
     ]
    }
   ],
   "source": [
    "loss = calc_loss(coeffs, t_indep, t_dep)\n",
    "loss.backward()\n",
    "with torch.no_grad():\n",
    "    coeffs.sub_(coeffs.grad * 0.1)\n",
    "    coeffs.grad.zero_()\n",
    "    print(calc_loss(coeffs, t_indep, t_dep))"
   ]
  },
  {
   "cell_type": "markdown",
   "id": "6705e488",
   "metadata": {
    "papermill": {
     "duration": 0.109315,
     "end_time": "2022-10-04T11:53:04.534515",
     "exception": false,
     "start_time": "2022-10-04T11:53:04.425200",
     "status": "completed"
    },
    "tags": []
   },
   "source": [
    "Note that `a.sub_(b)` subtracts `b` from `a` in-place. In PyTorch, any method that ends in `_` changes its object in-place. Similarly, `a.zero_()` sets all elements of a tensor to zero."
   ]
  },
  {
   "cell_type": "markdown",
   "id": "4efb81b8",
   "metadata": {
    "papermill": {
     "duration": 0.108012,
     "end_time": "2022-10-04T11:53:04.751350",
     "exception": false,
     "start_time": "2022-10-04T11:53:04.643338",
     "status": "completed"
    },
    "tags": []
   },
   "source": [
    "## Training the linear model"
   ]
  },
  {
   "cell_type": "markdown",
   "id": "bd4caed3",
   "metadata": {
    "papermill": {
     "duration": 0.108228,
     "end_time": "2022-10-04T11:53:04.968783",
     "exception": false,
     "start_time": "2022-10-04T11:53:04.860555",
     "status": "completed"
    },
    "tags": []
   },
   "source": [
    "Before we begin training our model, we'll need to ensure that we hold out a validation set for calculating our metrics (for details on this, see \"[Getting started with NLP for absolute beginners](https://www.kaggle.com/code/jhoward/getting-started-with-nlp-for-absolute-beginners#Test-and-validation-sets)\".\n",
    "\n",
    "There's lots of different ways we can do this. In the next notebook we'll be comparing our approach here to what the fastai library does, so we'll want to ensure we split the data in the same way. So let's use `RandomSplitter` to get indices that will split our data into training and validation sets:"
   ]
  },
  {
   "cell_type": "code",
   "execution_count": 33,
   "id": "b3f440ab",
   "metadata": {
    "execution": {
     "iopub.execute_input": "2022-10-04T11:53:05.188261Z",
     "iopub.status.busy": "2022-10-04T11:53:05.187735Z",
     "iopub.status.idle": "2022-10-04T11:53:06.199358Z",
     "shell.execute_reply": "2022-10-04T11:53:06.198596Z"
    },
    "papermill": {
     "duration": 1.123495,
     "end_time": "2022-10-04T11:53:06.201422",
     "exception": false,
     "start_time": "2022-10-04T11:53:05.077927",
     "status": "completed"
    },
    "tags": []
   },
   "outputs": [],
   "source": [
    "from fastai.data.transforms import RandomSplitter\n",
    "trn_split,val_split=RandomSplitter(seed=42)(df)"
   ]
  },
  {
   "cell_type": "markdown",
   "id": "b2b84c43",
   "metadata": {
    "papermill": {
     "duration": 0.103049,
     "end_time": "2022-10-04T11:53:06.406782",
     "exception": false,
     "start_time": "2022-10-04T11:53:06.303733",
     "status": "completed"
    },
    "tags": []
   },
   "source": [
    "Now we can apply those indicies to our independent and dependent variables:"
   ]
  },
  {
   "cell_type": "code",
   "execution_count": 34,
   "id": "73c572d6",
   "metadata": {
    "execution": {
     "iopub.execute_input": "2022-10-04T11:53:06.611322Z",
     "iopub.status.busy": "2022-10-04T11:53:06.611047Z",
     "iopub.status.idle": "2022-10-04T11:53:06.620913Z",
     "shell.execute_reply": "2022-10-04T11:53:06.620133Z"
    },
    "papermill": {
     "duration": 0.11387,
     "end_time": "2022-10-04T11:53:06.622643",
     "exception": false,
     "start_time": "2022-10-04T11:53:06.508773",
     "status": "completed"
    },
    "tags": []
   },
   "outputs": [
    {
     "data": {
      "text/plain": [
       "(713, 178)"
      ]
     },
     "execution_count": 34,
     "metadata": {},
     "output_type": "execute_result"
    }
   ],
   "source": [
    "trn_indep,val_indep = t_indep[trn_split],t_indep[val_split]\n",
    "trn_dep,val_dep = t_dep[trn_split],t_dep[val_split]\n",
    "len(trn_indep),len(val_indep)"
   ]
  },
  {
   "cell_type": "markdown",
   "id": "c5556452",
   "metadata": {
    "papermill": {
     "duration": 0.101794,
     "end_time": "2022-10-04T11:53:06.826681",
     "exception": false,
     "start_time": "2022-10-04T11:53:06.724887",
     "status": "completed"
    },
    "tags": []
   },
   "source": [
    "We'll create functions for the three things we did manually above: updating `coeffs`, doing one full gradient descent step, and initilising `coeffs` to random numbers:"
   ]
  },
  {
   "cell_type": "code",
   "execution_count": 35,
   "id": "f3eacc3a",
   "metadata": {
    "execution": {
     "iopub.execute_input": "2022-10-04T11:53:07.032030Z",
     "iopub.status.busy": "2022-10-04T11:53:07.031761Z",
     "iopub.status.idle": "2022-10-04T11:53:07.036709Z",
     "shell.execute_reply": "2022-10-04T11:53:07.036012Z"
    },
    "papermill": {
     "duration": 0.109995,
     "end_time": "2022-10-04T11:53:07.038511",
     "exception": false,
     "start_time": "2022-10-04T11:53:06.928516",
     "status": "completed"
    },
    "tags": []
   },
   "outputs": [],
   "source": [
    "def update_coeffs(coeffs, lr):\n",
    "    coeffs.sub_(coeffs.grad * lr)\n",
    "    coeffs.grad.zero_()"
   ]
  },
  {
   "cell_type": "code",
   "execution_count": 36,
   "id": "68d07a2f",
   "metadata": {
    "execution": {
     "iopub.execute_input": "2022-10-04T11:53:07.292953Z",
     "iopub.status.busy": "2022-10-04T11:53:07.292301Z",
     "iopub.status.idle": "2022-10-04T11:53:07.296929Z",
     "shell.execute_reply": "2022-10-04T11:53:07.296141Z"
    },
    "papermill": {
     "duration": 0.110375,
     "end_time": "2022-10-04T11:53:07.298962",
     "exception": false,
     "start_time": "2022-10-04T11:53:07.188587",
     "status": "completed"
    },
    "tags": []
   },
   "outputs": [],
   "source": [
    "def one_epoch(coeffs, lr):\n",
    "    loss = calc_loss(coeffs, trn_indep, trn_dep)\n",
    "    loss.backward()\n",
    "    with torch.no_grad(): update_coeffs(coeffs, lr)\n",
    "    print(f\"{loss:.3f}\", end=\"; \")"
   ]
  },
  {
   "cell_type": "code",
   "execution_count": 37,
   "id": "e4b6ee36",
   "metadata": {
    "execution": {
     "iopub.execute_input": "2022-10-04T11:53:07.505524Z",
     "iopub.status.busy": "2022-10-04T11:53:07.505282Z",
     "iopub.status.idle": "2022-10-04T11:53:07.508949Z",
     "shell.execute_reply": "2022-10-04T11:53:07.508292Z"
    },
    "papermill": {
     "duration": 0.108073,
     "end_time": "2022-10-04T11:53:07.510592",
     "exception": false,
     "start_time": "2022-10-04T11:53:07.402519",
     "status": "completed"
    },
    "tags": []
   },
   "outputs": [],
   "source": [
    "def init_coeffs(): return (torch.rand(n_coeff)-0.5).requires_grad_()"
   ]
  },
  {
   "cell_type": "markdown",
   "id": "8f35e567",
   "metadata": {
    "papermill": {
     "duration": 0.102703,
     "end_time": "2022-10-04T11:53:07.715933",
     "exception": false,
     "start_time": "2022-10-04T11:53:07.613230",
     "status": "completed"
    },
    "tags": []
   },
   "source": [
    "We can now use these functions to train our model:"
   ]
  },
  {
   "cell_type": "code",
   "execution_count": 38,
   "id": "bddab65c",
   "metadata": {
    "execution": {
     "iopub.execute_input": "2022-10-04T11:53:07.926372Z",
     "iopub.status.busy": "2022-10-04T11:53:07.925621Z",
     "iopub.status.idle": "2022-10-04T11:53:07.930408Z",
     "shell.execute_reply": "2022-10-04T11:53:07.929600Z"
    },
    "papermill": {
     "duration": 0.113087,
     "end_time": "2022-10-04T11:53:07.932734",
     "exception": false,
     "start_time": "2022-10-04T11:53:07.819647",
     "status": "completed"
    },
    "tags": []
   },
   "outputs": [],
   "source": [
    "def train_model(epochs=30, lr=0.01):\n",
    "    torch.manual_seed(442)\n",
    "    coeffs = init_coeffs()\n",
    "    for i in range(epochs): one_epoch(coeffs, lr=lr)\n",
    "    return coeffs"
   ]
  },
  {
   "cell_type": "markdown",
   "id": "5cb7db6f",
   "metadata": {
    "papermill": {
     "duration": 0.102071,
     "end_time": "2022-10-04T11:53:08.137556",
     "exception": false,
     "start_time": "2022-10-04T11:53:08.035485",
     "status": "completed"
    },
    "tags": []
   },
   "source": [
    "Let's try it. Our loss will print at the end of every step, so we hope we'll see it going down:"
   ]
  },
  {
   "cell_type": "code",
   "execution_count": 39,
   "id": "644d986b",
   "metadata": {
    "execution": {
     "iopub.execute_input": "2022-10-04T11:53:08.355851Z",
     "iopub.status.busy": "2022-10-04T11:53:08.355580Z",
     "iopub.status.idle": "2022-10-04T11:53:08.404769Z",
     "shell.execute_reply": "2022-10-04T11:53:08.404049Z"
    },
    "papermill": {
     "duration": 0.16448,
     "end_time": "2022-10-04T11:53:08.406489",
     "exception": false,
     "start_time": "2022-10-04T11:53:08.242009",
     "status": "completed"
    },
    "tags": []
   },
   "outputs": [
    {
     "name": "stdout",
     "output_type": "stream",
     "text": [
      "0.625; 0.597; 0.571; 0.545; 0.520; 0.496; 0.473; 0.457; 0.442; 0.428; 0.415; 0.405; 0.399; 0.394; 0.394; 0.417; 0.387; 0.393; 0.405; 0.376; 0.385; 0.393; 0.366; 0.370; 0.383; 0.360; 0.376; 0.360; 0.374; 0.354; 0.371; 0.350; 0.367; 0.348; 0.364; 0.345; 0.360; 0.342; 0.358; 0.338; 0.359; 0.333; 0.336; 0.353; 0.345; 0.336; 0.346; 0.329; 0.342; 0.328; 0.343; 0.323; 0.334; 0.326; 0.335; 0.320; 0.333; 0.318; 0.330; 0.317; 0.327; 0.316; 0.324; 0.314; 0.321; 0.313; 0.319; 0.312; 0.316; 0.310; 0.313; 0.309; 0.311; 0.309; 0.307; 0.309; 0.310; 0.305; 0.305; 0.307; 0.307; 0.303; 0.301; 0.306; 0.304; 0.302; 0.299; 0.304; 0.302; 0.301; 0.299; 0.301; 0.301; 0.299; 0.298; 0.302; 0.302; 0.298; 0.296; 0.301; "
     ]
    }
   ],
   "source": [
    "coeffs = train_model(100, lr=0.2)"
   ]
  },
  {
   "cell_type": "markdown",
   "id": "ae9e1766",
   "metadata": {
    "papermill": {
     "duration": 0.103911,
     "end_time": "2022-10-04T11:53:08.613591",
     "exception": false,
     "start_time": "2022-10-04T11:53:08.509680",
     "status": "completed"
    },
    "tags": []
   },
   "source": [
    "It does!\n",
    "\n",
    "Let's take a look at the coefficients for each column:"
   ]
  },
  {
   "cell_type": "code",
   "execution_count": 40,
   "id": "ffce2c53",
   "metadata": {
    "execution": {
     "iopub.execute_input": "2022-10-04T11:53:08.823171Z",
     "iopub.status.busy": "2022-10-04T11:53:08.822277Z",
     "iopub.status.idle": "2022-10-04T11:53:08.830592Z",
     "shell.execute_reply": "2022-10-04T11:53:08.829952Z"
    },
    "papermill": {
     "duration": 0.115177,
     "end_time": "2022-10-04T11:53:08.832218",
     "exception": false,
     "start_time": "2022-10-04T11:53:08.717041",
     "status": "completed"
    },
    "tags": []
   },
   "outputs": [
    {
     "data": {
      "text/plain": [
       "{'Age': tensor(0.2791),\n",
       " 'SibSp': tensor(-0.1616),\n",
       " 'Parch': tensor(0.1609),\n",
       " 'LogFare': tensor(1.0576),\n",
       " 'Sex_male': tensor(-0.7356),\n",
       " 'Pclass_2': tensor(0.2143),\n",
       " 'Pclass_3': tensor(0.2312),\n",
       " 'Embarked_Q': tensor(0.1812),\n",
       " 'Embarked_S': tensor(0.1239)}"
      ]
     },
     "execution_count": 40,
     "metadata": {},
     "output_type": "execute_result"
    }
   ],
   "source": [
    "def show_coeffs(): return dict(zip(indep_cols, coeffs.requires_grad_(False)))\n",
    "show_coeffs()"
   ]
  },
  {
   "cell_type": "markdown",
   "id": "e4f4c8ba",
   "metadata": {
    "papermill": {
     "duration": 0.10304,
     "end_time": "2022-10-04T11:53:09.038023",
     "exception": false,
     "start_time": "2022-10-04T11:53:08.934983",
     "status": "completed"
    },
    "tags": []
   },
   "source": [
    "## Measuring accuracy"
   ]
  },
  {
   "cell_type": "markdown",
   "id": "5c5b02d9",
   "metadata": {
    "papermill": {
     "duration": 0.103915,
     "end_time": "2022-10-04T11:53:09.245443",
     "exception": false,
     "start_time": "2022-10-04T11:53:09.141528",
     "status": "completed"
    },
    "tags": []
   },
   "source": [
    "The Kaggle competition is not, however, scored by absolute error (which is our loss function). It's scored by *accuracy* -- the proportion of rows where we correctly predict survival. Let's see how accurate we were on the validation set. First, calculate the predictions:"
   ]
  },
  {
   "cell_type": "code",
   "execution_count": 41,
   "id": "17193e68",
   "metadata": {
    "execution": {
     "iopub.execute_input": "2022-10-04T11:53:09.454637Z",
     "iopub.status.busy": "2022-10-04T11:53:09.454381Z",
     "iopub.status.idle": "2022-10-04T11:53:09.458386Z",
     "shell.execute_reply": "2022-10-04T11:53:09.457665Z"
    },
    "papermill": {
     "duration": 0.111366,
     "end_time": "2022-10-04T11:53:09.460223",
     "exception": false,
     "start_time": "2022-10-04T11:53:09.348857",
     "status": "completed"
    },
    "tags": []
   },
   "outputs": [],
   "source": [
    "preds = calc_preds(coeffs, val_indep)"
   ]
  },
  {
   "cell_type": "markdown",
   "id": "d435fdf7",
   "metadata": {
    "papermill": {
     "duration": 0.103449,
     "end_time": "2022-10-04T11:53:09.666489",
     "exception": false,
     "start_time": "2022-10-04T11:53:09.563040",
     "status": "completed"
    },
    "tags": []
   },
   "source": [
    "We'll assume that any passenger with a score of over `0.5` is predicted to survive. So that means we're correct for each row where `preds>0.5` is the same as the dependent variable:"
   ]
  },
  {
   "cell_type": "code",
   "execution_count": 42,
   "id": "31bcc07b",
   "metadata": {
    "execution": {
     "iopub.execute_input": "2022-10-04T11:53:09.875767Z",
     "iopub.status.busy": "2022-10-04T11:53:09.875237Z",
     "iopub.status.idle": "2022-10-04T11:53:09.881068Z",
     "shell.execute_reply": "2022-10-04T11:53:09.880416Z"
    },
    "papermill": {
     "duration": 0.111472,
     "end_time": "2022-10-04T11:53:09.882703",
     "exception": false,
     "start_time": "2022-10-04T11:53:09.771231",
     "status": "completed"
    },
    "tags": []
   },
   "outputs": [
    {
     "data": {
      "text/plain": [
       "tensor([ True,  True,  True,  True,  True,  True,  True,  True,  True,  True, False, False, False,  True,  True, False])"
      ]
     },
     "execution_count": 42,
     "metadata": {},
     "output_type": "execute_result"
    }
   ],
   "source": [
    "results = val_dep.bool()==(preds>0.5)\n",
    "results[:16]"
   ]
  },
  {
   "cell_type": "markdown",
   "id": "92062eb0",
   "metadata": {
    "papermill": {
     "duration": 0.1029,
     "end_time": "2022-10-04T11:53:10.088631",
     "exception": false,
     "start_time": "2022-10-04T11:53:09.985731",
     "status": "completed"
    },
    "tags": []
   },
   "source": [
    "Let's see what our average accuracy is:"
   ]
  },
  {
   "cell_type": "code",
   "execution_count": 43,
   "id": "6d29342d",
   "metadata": {
    "execution": {
     "iopub.execute_input": "2022-10-04T11:53:10.297929Z",
     "iopub.status.busy": "2022-10-04T11:53:10.297376Z",
     "iopub.status.idle": "2022-10-04T11:53:10.303310Z",
     "shell.execute_reply": "2022-10-04T11:53:10.302579Z"
    },
    "papermill": {
     "duration": 0.112612,
     "end_time": "2022-10-04T11:53:10.304951",
     "exception": false,
     "start_time": "2022-10-04T11:53:10.192339",
     "status": "completed"
    },
    "tags": []
   },
   "outputs": [
    {
     "data": {
      "text/plain": [
       "tensor(0.7865)"
      ]
     },
     "execution_count": 43,
     "metadata": {},
     "output_type": "execute_result"
    }
   ],
   "source": [
    "results.float().mean()"
   ]
  },
  {
   "cell_type": "markdown",
   "id": "9812a9e2",
   "metadata": {
    "papermill": {
     "duration": 0.104725,
     "end_time": "2022-10-04T11:53:10.514617",
     "exception": false,
     "start_time": "2022-10-04T11:53:10.409892",
     "status": "completed"
    },
    "tags": []
   },
   "source": [
    "That's not a bad start at all! We'll create a function so we can calcuate the accuracy easy for other models we train:"
   ]
  },
  {
   "cell_type": "code",
   "execution_count": 44,
   "id": "1d51ba6a",
   "metadata": {
    "execution": {
     "iopub.execute_input": "2022-10-04T11:53:10.724587Z",
     "iopub.status.busy": "2022-10-04T11:53:10.724325Z",
     "iopub.status.idle": "2022-10-04T11:53:10.731165Z",
     "shell.execute_reply": "2022-10-04T11:53:10.730442Z"
    },
    "papermill": {
     "duration": 0.113966,
     "end_time": "2022-10-04T11:53:10.732862",
     "exception": false,
     "start_time": "2022-10-04T11:53:10.618896",
     "status": "completed"
    },
    "tags": []
   },
   "outputs": [
    {
     "data": {
      "text/plain": [
       "tensor(0.7865)"
      ]
     },
     "execution_count": 44,
     "metadata": {},
     "output_type": "execute_result"
    }
   ],
   "source": [
    "def acc(coeffs): return (val_dep.bool()==(calc_preds(coeffs, val_indep)>0.5)).float().mean()\n",
    "acc(coeffs)"
   ]
  },
  {
   "cell_type": "markdown",
   "id": "1f5ee58a",
   "metadata": {
    "papermill": {
     "duration": 0.103746,
     "end_time": "2022-10-04T11:53:10.941181",
     "exception": false,
     "start_time": "2022-10-04T11:53:10.837435",
     "status": "completed"
    },
    "tags": []
   },
   "source": [
    "## Using sigmoid"
   ]
  },
  {
   "cell_type": "markdown",
   "id": "d30211e8",
   "metadata": {
    "papermill": {
     "duration": 0.10371,
     "end_time": "2022-10-04T11:53:11.151040",
     "exception": false,
     "start_time": "2022-10-04T11:53:11.047330",
     "status": "completed"
    },
    "tags": []
   },
   "source": [
    "Looking at our predictions, there's one obvious problem -- some of our predictions of the probability of survival are `>1`, and some are `<0`:"
   ]
  },
  {
   "cell_type": "code",
   "execution_count": 45,
   "id": "daf33442",
   "metadata": {
    "execution": {
     "iopub.execute_input": "2022-10-04T11:53:11.363385Z",
     "iopub.status.busy": "2022-10-04T11:53:11.363115Z",
     "iopub.status.idle": "2022-10-04T11:53:11.369307Z",
     "shell.execute_reply": "2022-10-04T11:53:11.368458Z"
    },
    "papermill": {
     "duration": 0.11618,
     "end_time": "2022-10-04T11:53:11.371059",
     "exception": false,
     "start_time": "2022-10-04T11:53:11.254879",
     "status": "completed"
    },
    "tags": []
   },
   "outputs": [
    {
     "data": {
      "text/plain": [
       "tensor([ 0.9184,  0.1279, -0.0635,  0.3960,  0.1371,  0.2249,  0.7242,  0.8832,  0.2313,  0.8556,  0.1021,  0.0584,  0.0631,  0.8662,\n",
       "         0.0795,  0.1073,  0.1771,  1.0108,  0.2972,  0.8481,  0.0737,  0.1456,  0.9421,  1.2491,  0.0428,  0.2868,  0.7882,  0.1666])"
      ]
     },
     "execution_count": 45,
     "metadata": {},
     "output_type": "execute_result"
    }
   ],
   "source": [
    "preds[:28]"
   ]
  },
  {
   "cell_type": "markdown",
   "id": "f0081b39",
   "metadata": {
    "papermill": {
     "duration": 0.104598,
     "end_time": "2022-10-04T11:53:11.581194",
     "exception": false,
     "start_time": "2022-10-04T11:53:11.476596",
     "status": "completed"
    },
    "tags": []
   },
   "source": [
    "To fix this, we should pass every prediction through the *sigmoid function*, which has a minimum at zero and maximum at one, and is defined as follows:"
   ]
  },
  {
   "cell_type": "code",
   "execution_count": 46,
   "id": "8ecfbeff",
   "metadata": {
    "execution": {
     "iopub.execute_input": "2022-10-04T11:53:11.793643Z",
     "iopub.status.busy": "2022-10-04T11:53:11.793287Z",
     "iopub.status.idle": "2022-10-04T11:53:12.835236Z",
     "shell.execute_reply": "2022-10-04T11:53:12.834493Z"
    },
    "papermill": {
     "duration": 1.151657,
     "end_time": "2022-10-04T11:53:12.837529",
     "exception": false,
     "start_time": "2022-10-04T11:53:11.685872",
     "status": "completed"
    },
    "tags": []
   },
   "outputs": [
    {
     "data": {
      "image/png": "[encoded data removed]",
      "text/plain": [
       "<Figure size 432x288 with 1 Axes>"
      ]
     },
     "metadata": {
      "needs_background": "light"
     },
     "output_type": "display_data"
    }
   ],
   "source": [
    "import sympy\n",
    "sympy.plot(\"1/(1+exp(-x))\", xlim=(-5,5));"
   ]
  },
  {
   "cell_type": "markdown",
   "id": "9aef280f",
   "metadata": {
    "papermill": {
     "duration": 0.107299,
     "end_time": "2022-10-04T11:53:13.074274",
     "exception": false,
     "start_time": "2022-10-04T11:53:12.966975",
     "status": "completed"
    },
    "tags": []
   },
   "source": [
    "PyTorch already defines that function for us, so we can modify `calc_preds` to use it:"
   ]
  },
  {
   "cell_type": "code",
   "execution_count": 47,
   "id": "8c7bc6c1",
   "metadata": {
    "execution": {
     "iopub.execute_input": "2022-10-04T11:53:13.287418Z",
     "iopub.status.busy": "2022-10-04T11:53:13.287149Z",
     "iopub.status.idle": "2022-10-04T11:53:13.291385Z",
     "shell.execute_reply": "2022-10-04T11:53:13.290541Z"
    },
    "papermill": {
     "duration": 0.113222,
     "end_time": "2022-10-04T11:53:13.293460",
     "exception": false,
     "start_time": "2022-10-04T11:53:13.180238",
     "status": "completed"
    },
    "tags": []
   },
   "outputs": [],
   "source": [
    "def calc_preds(coeffs, indeps): return torch.sigmoid((indeps*coeffs).sum(axis=1))"
   ]
  },
  {
   "cell_type": "markdown",
   "id": "32b62149",
   "metadata": {
    "papermill": {
     "duration": 0.105832,
     "end_time": "2022-10-04T11:53:13.506398",
     "exception": false,
     "start_time": "2022-10-04T11:53:13.400566",
     "status": "completed"
    },
    "tags": []
   },
   "source": [
    "Let's train a new model now, using this updated function to calculate predictions:"
   ]
  },
  {
   "cell_type": "code",
   "execution_count": 48,
   "id": "51594282",
   "metadata": {
    "execution": {
     "iopub.execute_input": "2022-10-04T11:53:13.719593Z",
     "iopub.status.busy": "2022-10-04T11:53:13.719336Z",
     "iopub.status.idle": "2022-10-04T11:53:13.741116Z",
     "shell.execute_reply": "2022-10-04T11:53:13.740112Z"
    },
    "papermill": {
     "duration": 0.130924,
     "end_time": "2022-10-04T11:53:13.742904",
     "exception": false,
     "start_time": "2022-10-04T11:53:13.611980",
     "status": "completed"
    },
    "tags": []
   },
   "outputs": [
    {
     "name": "stdout",
     "output_type": "stream",
     "text": [
      "0.511; 0.374; 0.373; 0.371; 0.367; 0.362; 0.353; 0.341; 0.332; 0.321; 0.275; 0.218; 0.218; 0.218; 0.218; 0.218; 0.218; 0.217; 0.217; 0.217; 0.217; 0.217; 0.217; 0.217; 0.217; 0.217; 0.217; 0.217; 0.217; 0.217; "
     ]
    }
   ],
   "source": [
    "coeffs = train_model(lr=100)"
   ]
  },
  {
   "cell_type": "markdown",
   "id": "717f70cd",
   "metadata": {
    "papermill": {
     "duration": 0.108683,
     "end_time": "2022-10-04T11:53:13.957579",
     "exception": false,
     "start_time": "2022-10-04T11:53:13.848896",
     "status": "completed"
    },
    "tags": []
   },
   "source": [
    "The loss has improved by a lot. Let's check the accuracy:"
   ]
  },
  {
   "cell_type": "code",
   "execution_count": 49,
   "id": "21f0824a",
   "metadata": {
    "execution": {
     "iopub.execute_input": "2022-10-04T11:53:14.207200Z",
     "iopub.status.busy": "2022-10-04T11:53:14.206910Z",
     "iopub.status.idle": "2022-10-04T11:53:14.212950Z",
     "shell.execute_reply": "2022-10-04T11:53:14.212235Z"
    },
    "papermill": {
     "duration": 0.132978,
     "end_time": "2022-10-04T11:53:14.215260",
     "exception": false,
     "start_time": "2022-10-04T11:53:14.082282",
     "status": "completed"
    },
    "tags": []
   },
   "outputs": [
    {
     "data": {
      "text/plain": [
       "tensor(0.7921)"
      ]
     },
     "execution_count": 49,
     "metadata": {},
     "output_type": "execute_result"
    }
   ],
   "source": [
    "acc(coeffs)"
   ]
  },
  {
   "cell_type": "markdown",
   "id": "dab7d503",
   "metadata": {
    "papermill": {
     "duration": 0.105888,
     "end_time": "2022-10-04T11:53:14.427423",
     "exception": false,
     "start_time": "2022-10-04T11:53:14.321535",
     "status": "completed"
    },
    "tags": []
   },
   "source": [
    "That's improved too! Here's the coefficients of our trained model:"
   ]
  },
  {
   "cell_type": "code",
   "execution_count": 50,
   "id": "c37917ef",
   "metadata": {
    "execution": {
     "iopub.execute_input": "2022-10-04T11:53:14.640196Z",
     "iopub.status.busy": "2022-10-04T11:53:14.639924Z",
     "iopub.status.idle": "2022-10-04T11:53:14.647739Z",
     "shell.execute_reply": "2022-10-04T11:53:14.647002Z"
    },
    "papermill": {
     "duration": 0.116233,
     "end_time": "2022-10-04T11:53:14.649488",
     "exception": false,
     "start_time": "2022-10-04T11:53:14.533255",
     "status": "completed"
    },
    "tags": []
   },
   "outputs": [
    {
     "data": {
      "text/plain": [
       "{'Age': tensor(1.6589),\n",
       " 'SibSp': tensor(-0.0839),\n",
       " 'Parch': tensor(0.4821),\n",
       " 'LogFare': tensor(6.4731),\n",
       " 'Sex_male': tensor(-11.1819),\n",
       " 'Pclass_2': tensor(2.6129),\n",
       " 'Pclass_3': tensor(-7.2837),\n",
       " 'Embarked_Q': tensor(0.0581),\n",
       " 'Embarked_S': tensor(-0.7951)}"
      ]
     },
     "execution_count": 50,
     "metadata": {},
     "output_type": "execute_result"
    }
   ],
   "source": [
    "show_coeffs()"
   ]
  },
  {
   "cell_type": "markdown",
   "id": "082b7773",
   "metadata": {
    "papermill": {
     "duration": 0.105902,
     "end_time": "2022-10-04T11:53:14.862065",
     "exception": false,
     "start_time": "2022-10-04T11:53:14.756163",
     "status": "completed"
    },
    "tags": []
   },
   "source": [
    "These coefficients seem reasonable -- in general, older people and males were less likely to survive, and first class passengers were more likely to survive."
   ]
  },
  {
   "cell_type": "markdown",
   "id": "0997ccd9",
   "metadata": {
    "papermill": {
     "duration": 0.106052,
     "end_time": "2022-10-04T11:53:15.074251",
     "exception": false,
     "start_time": "2022-10-04T11:53:14.968199",
     "status": "completed"
    },
    "tags": []
   },
   "source": [
    "## Submitting to Kaggle"
   ]
  },
  {
   "cell_type": "markdown",
   "id": "e72eb384",
   "metadata": {
    "papermill": {
     "duration": 0.107454,
     "end_time": "2022-10-04T11:53:15.288278",
     "exception": false,
     "start_time": "2022-10-04T11:53:15.180824",
     "status": "completed"
    },
    "tags": []
   },
   "source": [
    "Now that we've got a trained model, we can prepare a submission to Kaggle. To do that, first we need to read the test set:"
   ]
  },
  {
   "cell_type": "code",
   "execution_count": 51,
   "id": "b03f13ac",
   "metadata": {
    "execution": {
     "iopub.execute_input": "2022-10-04T11:53:15.507106Z",
     "iopub.status.busy": "2022-10-04T11:53:15.506794Z",
     "iopub.status.idle": "2022-10-04T11:53:15.519409Z",
     "shell.execute_reply": "2022-10-04T11:53:15.518704Z"
    },
    "papermill": {
     "duration": 0.12573,
     "end_time": "2022-10-04T11:53:15.521190",
     "exception": false,
     "start_time": "2022-10-04T11:53:15.395460",
     "status": "completed"
    },
    "tags": []
   },
   "outputs": [],
   "source": [
    "tst_df = pd.read_csv(path/'test.csv')"
   ]
  },
  {
   "cell_type": "markdown",
   "id": "c8c7c2e8",
   "metadata": {
    "papermill": {
     "duration": 0.108125,
     "end_time": "2022-10-04T11:53:15.737806",
     "exception": false,
     "start_time": "2022-10-04T11:53:15.629681",
     "status": "completed"
    },
    "tags": []
   },
   "source": [
    "In this case, it turns out that the test set is missing `Fare` for one passenger. We'll just fill it with `0` to avoid problems:"
   ]
  },
  {
   "cell_type": "code",
   "execution_count": 52,
   "id": "2debd5d2",
   "metadata": {
    "execution": {
     "iopub.execute_input": "2022-10-04T11:53:15.954034Z",
     "iopub.status.busy": "2022-10-04T11:53:15.953277Z",
     "iopub.status.idle": "2022-10-04T11:53:15.958006Z",
     "shell.execute_reply": "2022-10-04T11:53:15.957341Z"
    },
    "papermill": {
     "duration": 0.114632,
     "end_time": "2022-10-04T11:53:15.959691",
     "exception": false,
     "start_time": "2022-10-04T11:53:15.845059",
     "status": "completed"
    },
    "tags": []
   },
   "outputs": [],
   "source": [
    "tst_df['Fare'] = tst_df.Fare.fillna(0)"
   ]
  },
  {
   "cell_type": "markdown",
   "id": "fc038a87",
   "metadata": {
    "papermill": {
     "duration": 0.106751,
     "end_time": "2022-10-04T11:53:16.175317",
     "exception": false,
     "start_time": "2022-10-04T11:53:16.068566",
     "status": "completed"
    },
    "tags": []
   },
   "source": [
    "Now we can just copy the same steps we did to our training set and do the same exact things on our test set to preprocess the data:"
   ]
  },
  {
   "cell_type": "code",
   "execution_count": 53,
   "id": "fd92dc10",
   "metadata": {
    "execution": {
     "iopub.execute_input": "2022-10-04T11:53:16.392478Z",
     "iopub.status.busy": "2022-10-04T11:53:16.391937Z",
     "iopub.status.idle": "2022-10-04T11:53:16.408045Z",
     "shell.execute_reply": "2022-10-04T11:53:16.407271Z"
    },
    "papermill": {
     "duration": 0.126768,
     "end_time": "2022-10-04T11:53:16.410111",
     "exception": false,
     "start_time": "2022-10-04T11:53:16.283343",
     "status": "completed"
    },
    "tags": []
   },
   "outputs": [],
   "source": [
    "tst_df.fillna(modes, inplace=True)\n",
    "tst_df['LogFare'] = np.log(tst_df['Fare']+1)\n",
    "tst_df = pd.get_dummies(tst_df, columns=[\"Sex\",\"Pclass\",\"Embarked\"])\n",
    "\n",
    "tst_indep = tensor(tst_df[indep_cols].values, dtype=torch.float)\n",
    "tst_indep = tst_indep / vals"
   ]
  },
  {
   "cell_type": "markdown",
   "id": "da5b043f",
   "metadata": {
    "papermill": {
     "duration": 0.107216,
     "end_time": "2022-10-04T11:53:16.629212",
     "exception": false,
     "start_time": "2022-10-04T11:53:16.521996",
     "status": "completed"
    },
    "tags": []
   },
   "source": [
    "Let's calculate our predictions of which passengers survived in the test set:"
   ]
  },
  {
   "cell_type": "code",
   "execution_count": 54,
   "id": "906cf78d",
   "metadata": {
    "execution": {
     "iopub.execute_input": "2022-10-04T11:53:16.845738Z",
     "iopub.status.busy": "2022-10-04T11:53:16.845439Z",
     "iopub.status.idle": "2022-10-04T11:53:16.850368Z",
     "shell.execute_reply": "2022-10-04T11:53:16.849698Z"
    },
    "papermill": {
     "duration": 0.115418,
     "end_time": "2022-10-04T11:53:16.852044",
     "exception": false,
     "start_time": "2022-10-04T11:53:16.736626",
     "status": "completed"
    },
    "tags": []
   },
   "outputs": [],
   "source": [
    "tst_df['Survived'] = (calc_preds(tst_indep, coeffs)>0.5).int()"
   ]
  },
  {
   "cell_type": "markdown",
   "id": "b12db7a9",
   "metadata": {
    "papermill": {
     "duration": 0.106235,
     "end_time": "2022-10-04T11:53:17.064660",
     "exception": false,
     "start_time": "2022-10-04T11:53:16.958425",
     "status": "completed"
    },
    "tags": []
   },
   "source": [
    "The sample submission on the Kaggle competition site shows that we're expected to upload a CSV with just `PassengerId` and `Survived`, so let's create that and save it:"
   ]
  },
  {
   "cell_type": "code",
   "execution_count": 55,
   "id": "0767d3b8",
   "metadata": {
    "execution": {
     "iopub.execute_input": "2022-10-04T11:53:17.281770Z",
     "iopub.status.busy": "2022-10-04T11:53:17.281050Z",
     "iopub.status.idle": "2022-10-04T11:53:17.290864Z",
     "shell.execute_reply": "2022-10-04T11:53:17.290230Z"
    },
    "papermill": {
     "duration": 0.120523,
     "end_time": "2022-10-04T11:53:17.292766",
     "exception": false,
     "start_time": "2022-10-04T11:53:17.172243",
     "status": "completed"
    },
    "tags": []
   },
   "outputs": [],
   "source": [
    "sub_df = tst_df[['PassengerId','Survived']]\n",
    "sub_df.to_csv('sub.csv', index=False)"
   ]
  },
  {
   "cell_type": "markdown",
   "id": "e73bd6bf",
   "metadata": {
    "papermill": {
     "duration": 0.106925,
     "end_time": "2022-10-04T11:53:17.506742",
     "exception": false,
     "start_time": "2022-10-04T11:53:17.399817",
     "status": "completed"
    },
    "tags": []
   },
   "source": [
    "We can check the first few rows of the file to make sure it looks reasonable:"
   ]
  },
  {
   "cell_type": "code",
   "execution_count": 56,
   "id": "91c37643",
   "metadata": {
    "execution": {
     "iopub.execute_input": "2022-10-04T11:53:17.724076Z",
     "iopub.status.busy": "2022-10-04T11:53:17.723380Z",
     "iopub.status.idle": "2022-10-04T11:53:18.917999Z",
     "shell.execute_reply": "2022-10-04T11:53:18.917166Z"
    },
    "papermill": {
     "duration": 1.304825,
     "end_time": "2022-10-04T11:53:18.920585",
     "exception": false,
     "start_time": "2022-10-04T11:53:17.615760",
     "status": "completed"
    },
    "tags": []
   },
   "outputs": [
    {
     "name": "stdout",
     "output_type": "stream",
     "text": [
      "PassengerId,Survived\r\n",
      "892,0\r\n",
      "893,0\r\n",
      "894,0\r\n",
      "895,0\r\n",
      "896,0\r\n",
      "897,0\r\n",
      "898,0\r\n",
      "899,0\r\n",
      "900,0\r\n"
     ]
    }
   ],
   "source": [
    "!head sub.csv"
   ]
  },
  {
   "cell_type": "markdown",
   "id": "373bc9d2",
   "metadata": {
    "papermill": {
     "duration": 0.154058,
     "end_time": "2022-10-04T11:53:19.230818",
     "exception": false,
     "start_time": "2022-10-04T11:53:19.076760",
     "status": "completed"
    },
    "tags": []
   },
   "source": [
    "When you click \"save version\" in Kaggle, and wait for the notebook to run, you'll see that `sub.csv` appears in the \"Data\" tab. Clicking on that file will show a *Submit* button, which allows you to submit to the competition."
   ]
  },
  {
   "cell_type": "markdown",
   "id": "9792aee3",
   "metadata": {
    "papermill": {
     "duration": 0.118549,
     "end_time": "2022-10-04T11:53:19.503328",
     "exception": false,
     "start_time": "2022-10-04T11:53:19.384779",
     "status": "completed"
    },
    "tags": []
   },
   "source": [
    "## Using matrix product"
   ]
  },
  {
   "cell_type": "markdown",
   "id": "e8b32a0c",
   "metadata": {
    "papermill": {
     "duration": 0.108503,
     "end_time": "2022-10-04T11:53:19.721309",
     "exception": false,
     "start_time": "2022-10-04T11:53:19.612806",
     "status": "completed"
    },
    "tags": []
   },
   "source": [
    "We can make things quite a bit neater...\n",
    "\n",
    "Take a look at the inner-most calculation we're doing to get the predictions:"
   ]
  },
  {
   "cell_type": "code",
   "execution_count": 57,
   "id": "f8a7bbc3",
   "metadata": {
    "execution": {
     "iopub.execute_input": "2022-10-04T11:53:19.939039Z",
     "iopub.status.busy": "2022-10-04T11:53:19.938239Z",
     "iopub.status.idle": "2022-10-04T11:53:19.947761Z",
     "shell.execute_reply": "2022-10-04T11:53:19.946985Z"
    },
    "papermill": {
     "duration": 0.120535,
     "end_time": "2022-10-04T11:53:19.949528",
     "exception": false,
     "start_time": "2022-10-04T11:53:19.828993",
     "status": "completed"
    },
    "tags": []
   },
   "outputs": [
    {
     "data": {
      "text/plain": [
       "tensor([  5.8565, -15.6616, -15.7819,  -4.5197,  -6.1085,  -5.4635,  -4.3528,   5.1357, -15.1186,  -3.4480, -16.3269, -15.0065, -16.5191,\n",
       "         -4.4631, -16.4664,  -7.6045,  -7.1898,   5.8350,  -5.1369,  -5.0811, -16.4962,  -7.3764,   5.7715,   7.3089, -16.6827, -14.5756,\n",
       "         -5.3994,  -7.2520, -16.5556,  -4.4783,   5.0890,  -3.6257, -16.5998, -16.3435,   5.9810,  -4.3150,  -7.3142,   4.9087, -16.4783,\n",
       "         -5.3006,  -6.4369, -16.4783,  -5.0281,   5.1729, -16.5613,  -2.9831, -14.5191, -15.8959, -15.7596,  -5.4339,  -5.5538, -14.9527,\n",
       "        -15.3482, -16.5790,  -6.2917,  -6.1673, -15.6602, -15.6139, -16.5405, -15.7250,  -7.0762, -16.7549,  -6.7564, -16.5550,   6.1382,\n",
       "         -6.9386,  -6.1292, -15.1072, -14.6006,   5.5246, -16.4547,  -3.7338,  -6.1881, -16.3242,  -8.0638, -16.6762, -16.4783,  -6.5208,\n",
       "         -6.2329,  -5.5138,  -5.4579,   6.3561, -16.5169, -16.5743,   5.3878,  -4.0095,  -5.9447,   4.6197,   6.5216,  -6.1499, -16.2772,\n",
       "        -16.4783,   5.4729, -15.6574,  -4.0883,  -5.0946,  -4.9918,  -3.4419,  -4.5197, -15.8897, -16.5556,  -4.4783, -16.3303, -16.3717,\n",
       "         -7.1331,  -5.7559, -16.1998,   6.5432,  -5.9831, -16.5071,   6.0813,  -4.3925,  -7.9176,   5.4105, -16.4783,   5.7289,  -3.1542,\n",
       "        -15.6602, -16.1520,   6.8379, -15.0467,  -5.3202, -15.6602,  -4.2492, -15.7824,  -7.8139,  -5.3077,  -5.2776, -16.4901,  -5.0437,\n",
       "          4.1747, -15.8288,   5.9723,   5.2290,   5.6670, -16.5820,  -5.3670, -16.2222,  -4.3415,   5.7496,  -6.0048,   5.6033, -16.1740,\n",
       "        -15.4943,  -4.1345,   5.0323, -16.1201,  -3.3572,   3.4535,  -3.4305,  -4.6725,  -4.3176,   4.7865, -14.6712, -14.6238, -14.2715,\n",
       "        -16.4783,  -5.2041,  -5.9218, -15.9202,   4.5656,  -4.4956, -15.6174,  -6.1061,   5.2173,   5.7344,   5.9678,   5.4260,  -4.5556,\n",
       "         -7.2582,  -4.4191, -16.0239,   4.0210, -16.3242, -16.0780,   4.5479,  -7.9010, -16.0717])"
      ]
     },
     "execution_count": 57,
     "metadata": {},
     "output_type": "execute_result"
    }
   ],
   "source": [
    "(val_indep*coeffs).sum(axis=1)"
   ]
  },
  {
   "cell_type": "markdown",
   "id": "69bd1c3c",
   "metadata": {
    "papermill": {
     "duration": 0.109109,
     "end_time": "2022-10-04T11:53:20.166509",
     "exception": false,
     "start_time": "2022-10-04T11:53:20.057400",
     "status": "completed"
    },
    "tags": []
   },
   "source": [
    "Multiplying elements together and then adding across rows is identical to doing a matrix-vector product! Python uses the `@` operator to indicate matrix products, and is supported by PyTorch tensors. Therefore, we can replicate the above calculate more simply like so:"
   ]
  },
  {
   "cell_type": "code",
   "execution_count": 58,
   "id": "1dcb92aa",
   "metadata": {
    "execution": {
     "iopub.execute_input": "2022-10-04T11:53:20.386577Z",
     "iopub.status.busy": "2022-10-04T11:53:20.386304Z",
     "iopub.status.idle": "2022-10-04T11:53:20.426674Z",
     "shell.execute_reply": "2022-10-04T11:53:20.425953Z"
    },
    "papermill": {
     "duration": 0.152355,
     "end_time": "2022-10-04T11:53:20.428484",
     "exception": false,
     "start_time": "2022-10-04T11:53:20.276129",
     "status": "completed"
    },
    "tags": []
   },
   "outputs": [
    {
     "data": {
      "text/plain": [
       "tensor([  5.8565, -15.6617, -15.7819,  -4.5197,  -6.1085,  -5.4635,  -4.3528,   5.1357, -15.1186,  -3.4480, -16.3269, -15.0065, -16.5191,\n",
       "         -4.4631, -16.4664,  -7.6045,  -7.1898,   5.8350,  -5.1369,  -5.0811, -16.4962,  -7.3764,   5.7715,   7.3089, -16.6827, -14.5756,\n",
       "         -5.3994,  -7.2520, -16.5556,  -4.4783,   5.0890,  -3.6257, -16.5998, -16.3435,   5.9810,  -4.3150,  -7.3142,   4.9087, -16.4783,\n",
       "         -5.3006,  -6.4369, -16.4783,  -5.0281,   5.1729, -16.5613,  -2.9831, -14.5191, -15.8959, -15.7596,  -5.4339,  -5.5538, -14.9527,\n",
       "        -15.3482, -16.5790,  -6.2918,  -6.1673, -15.6602, -15.6139, -16.5405, -15.7250,  -7.0762, -16.7549,  -6.7564, -16.5550,   6.1382,\n",
       "         -6.9386,  -6.1292, -15.1072, -14.6006,   5.5246, -16.4547,  -3.7338,  -6.1881, -16.3242,  -8.0638, -16.6762, -16.4783,  -6.5208,\n",
       "         -6.2329,  -5.5138,  -5.4579,   6.3561, -16.5169, -16.5743,   5.3878,  -4.0095,  -5.9447,   4.6197,   6.5216,  -6.1499, -16.2772,\n",
       "        -16.4783,   5.4729, -15.6575,  -4.0883,  -5.0946,  -4.9918,  -3.4419,  -4.5197, -15.8897, -16.5556,  -4.4783, -16.3303, -16.3717,\n",
       "         -7.1331,  -5.7559, -16.1998,   6.5432,  -5.9831, -16.5071,   6.0813,  -4.3925,  -7.9176,   5.4105, -16.4783,   5.7289,  -3.1542,\n",
       "        -15.6602, -16.1520,   6.8379, -15.0467,  -5.3202, -15.6602,  -4.2492, -15.7824,  -7.8139,  -5.3077,  -5.2776, -16.4901,  -5.0437,\n",
       "          4.1747, -15.8288,   5.9723,   5.2290,   5.6670, -16.5820,  -5.3670, -16.2222,  -4.3415,   5.7496,  -6.0048,   5.6033, -16.1740,\n",
       "        -15.4943,  -4.1345,   5.0323, -16.1201,  -3.3572,   3.4535,  -3.4305,  -4.6725,  -4.3176,   4.7865, -14.6712, -14.6238, -14.2715,\n",
       "        -16.4783,  -5.2041,  -5.9218, -15.9202,   4.5656,  -4.4956, -15.6174,  -6.1061,   5.2173,   5.7344,   5.9678,   5.4260,  -4.5556,\n",
       "         -7.2582,  -4.4191, -16.0239,   4.0210, -16.3242, -16.0780,   4.5479,  -7.9010, -16.0717])"
      ]
     },
     "execution_count": 58,
     "metadata": {},
     "output_type": "execute_result"
    }
   ],
   "source": [
    "val_indep@coeffs"
   ]
  },
  {
   "cell_type": "markdown",
   "id": "a49299d9",
   "metadata": {
    "papermill": {
     "duration": 0.109149,
     "end_time": "2022-10-04T11:53:20.647089",
     "exception": false,
     "start_time": "2022-10-04T11:53:20.537940",
     "status": "completed"
    },
    "tags": []
   },
   "source": [
    "It also turns out that this is much faster, because matrix products in PyTorch are very highly optimised.\n",
    "\n",
    "Let's use this to replace how `calc_preds` works:"
   ]
  },
  {
   "cell_type": "code",
   "execution_count": 59,
   "id": "ab7363ed",
   "metadata": {
    "execution": {
     "iopub.execute_input": "2022-10-04T11:53:20.866695Z",
     "iopub.status.busy": "2022-10-04T11:53:20.866428Z",
     "iopub.status.idle": "2022-10-04T11:53:20.870292Z",
     "shell.execute_reply": "2022-10-04T11:53:20.869593Z"
    },
    "papermill": {
     "duration": 0.114593,
     "end_time": "2022-10-04T11:53:20.872010",
     "exception": false,
     "start_time": "2022-10-04T11:53:20.757417",
     "status": "completed"
    },
    "tags": []
   },
   "outputs": [],
   "source": [
    "def calc_preds(coeffs, indeps): return torch.sigmoid(indeps@coeffs)"
   ]
  },
  {
   "cell_type": "markdown",
   "id": "cc8a2e89",
   "metadata": {
    "papermill": {
     "duration": 0.107543,
     "end_time": "2022-10-04T11:53:21.087277",
     "exception": false,
     "start_time": "2022-10-04T11:53:20.979734",
     "status": "completed"
    },
    "tags": []
   },
   "source": [
    "In order to do matrix-matrix products (which we'll need in the next section), we need to turn `coeffs` into a column vector (i.e. a matrix with a single column), which we can do by passing a second argument `1` to `torch.rand()`, indicating that we want our coefficients to have one column:"
   ]
  },
  {
   "cell_type": "code",
   "execution_count": 60,
   "id": "b1a5921c",
   "metadata": {
    "execution": {
     "iopub.execute_input": "2022-10-04T11:53:21.306157Z",
     "iopub.status.busy": "2022-10-04T11:53:21.305439Z",
     "iopub.status.idle": "2022-10-04T11:53:21.309738Z",
     "shell.execute_reply": "2022-10-04T11:53:21.308948Z"
    },
    "papermill": {
     "duration": 0.115614,
     "end_time": "2022-10-04T11:53:21.311485",
     "exception": false,
     "start_time": "2022-10-04T11:53:21.195871",
     "status": "completed"
    },
    "tags": []
   },
   "outputs": [],
   "source": [
    "def init_coeffs(): return (torch.rand(n_coeff, 1)*0.1).requires_grad_()"
   ]
  },
  {
   "cell_type": "markdown",
   "id": "b7222d14",
   "metadata": {
    "papermill": {
     "duration": 0.108578,
     "end_time": "2022-10-04T11:53:21.528956",
     "exception": false,
     "start_time": "2022-10-04T11:53:21.420378",
     "status": "completed"
    },
    "tags": []
   },
   "source": [
    "We'll also need to turn our dependent variable into a column vector, which we can do by indexing the column dimension with the special value `None`, which tells PyTorch to add a new dimension in this position:"
   ]
  },
  {
   "cell_type": "code",
   "execution_count": 61,
   "id": "ffaab8e2",
   "metadata": {
    "execution": {
     "iopub.execute_input": "2022-10-04T11:53:21.748085Z",
     "iopub.status.busy": "2022-10-04T11:53:21.747820Z",
     "iopub.status.idle": "2022-10-04T11:53:21.751726Z",
     "shell.execute_reply": "2022-10-04T11:53:21.751000Z"
    },
    "papermill": {
     "duration": 0.11479,
     "end_time": "2022-10-04T11:53:21.753580",
     "exception": false,
     "start_time": "2022-10-04T11:53:21.638790",
     "status": "completed"
    },
    "tags": []
   },
   "outputs": [],
   "source": [
    "trn_dep = trn_dep[:,None]\n",
    "val_dep = val_dep[:,None]"
   ]
  },
  {
   "cell_type": "markdown",
   "id": "09f71605",
   "metadata": {
    "papermill": {
     "duration": 0.109093,
     "end_time": "2022-10-04T11:53:21.970794",
     "exception": false,
     "start_time": "2022-10-04T11:53:21.861701",
     "status": "completed"
    },
    "tags": []
   },
   "source": [
    "We can now train our model as before and confirm we get identical outputs...:"
   ]
  },
  {
   "cell_type": "code",
   "execution_count": 62,
   "id": "c272228a",
   "metadata": {
    "execution": {
     "iopub.execute_input": "2022-10-04T11:53:22.188860Z",
     "iopub.status.busy": "2022-10-04T11:53:22.188084Z",
     "iopub.status.idle": "2022-10-04T11:53:22.209119Z",
     "shell.execute_reply": "2022-10-04T11:53:22.208137Z"
    },
    "papermill": {
     "duration": 0.132277,
     "end_time": "2022-10-04T11:53:22.210882",
     "exception": false,
     "start_time": "2022-10-04T11:53:22.078605",
     "status": "completed"
    },
    "tags": []
   },
   "outputs": [
    {
     "name": "stdout",
     "output_type": "stream",
     "text": [
      "0.515; 0.373; 0.371; 0.368; 0.362; 0.354; 0.343; 0.335; 0.328; 0.317; 0.261; 0.218; 0.218; 0.218; 0.218; 0.217; 0.217; 0.217; 0.217; 0.217; 0.217; 0.217; 0.217; 0.217; 0.217; 0.217; 0.217; 0.217; 0.216; 0.216; "
     ]
    }
   ],
   "source": [
    "coeffs = train_model(lr=100)"
   ]
  },
  {
   "cell_type": "markdown",
   "id": "a0ff9f2d",
   "metadata": {
    "papermill": {
     "duration": 0.111408,
     "end_time": "2022-10-04T11:53:22.440183",
     "exception": false,
     "start_time": "2022-10-04T11:53:22.328775",
     "status": "completed"
    },
    "tags": []
   },
   "source": [
    "...and identical accuracy:"
   ]
  },
  {
   "cell_type": "code",
   "execution_count": 63,
   "id": "6ce16082",
   "metadata": {
    "execution": {
     "iopub.execute_input": "2022-10-04T11:53:22.662358Z",
     "iopub.status.busy": "2022-10-04T11:53:22.662077Z",
     "iopub.status.idle": "2022-10-04T11:53:22.668485Z",
     "shell.execute_reply": "2022-10-04T11:53:22.667711Z"
    },
    "papermill": {
     "duration": 0.119989,
     "end_time": "2022-10-04T11:53:22.670387",
     "exception": false,
     "start_time": "2022-10-04T11:53:22.550398",
     "status": "completed"
    },
    "tags": []
   },
   "outputs": [
    {
     "data": {
      "text/plain": [
       "tensor(0.7921)"
      ]
     },
     "execution_count": 63,
     "metadata": {},
     "output_type": "execute_result"
    }
   ],
   "source": [
    "acc(coeffs)"
   ]
  },
  {
   "cell_type": "markdown",
   "id": "5385e759",
   "metadata": {
    "papermill": {
     "duration": 0.110598,
     "end_time": "2022-10-04T11:53:22.893915",
     "exception": false,
     "start_time": "2022-10-04T11:53:22.783317",
     "status": "completed"
    },
    "tags": []
   },
   "source": [
    "## A neural network"
   ]
  },
  {
   "cell_type": "markdown",
   "id": "e9e7a6cc",
   "metadata": {
    "papermill": {
     "duration": 0.108124,
     "end_time": "2022-10-04T11:53:23.110606",
     "exception": false,
     "start_time": "2022-10-04T11:53:23.002482",
     "status": "completed"
    },
    "tags": []
   },
   "source": [
    "We've now got what we need to implement our neural network.\n",
    "\n",
    "First, we'll need to create coefficients for each of our layers. Our first set of coefficients will take our `n_coeff` inputs, and create `n_hidden` outputs. We can choose whatever `n_hidden` we like -- a higher number gives our network more flexibility, but makes it slower and harder to train. So we need a matrix of size `n_coeff` by `n_hidden`. We'll divide these coefficients by `n_hidden` so that when we sum them up in the next layer we'll end up with similar magnitude numbers to what we started with.\n",
    "\n",
    "Then our second layer will need to take the `n_hidden` inputs and create a single output, so that means we need a `n_hidden` by `1` matrix there. The second layer will also need a constant term added."
   ]
  },
  {
   "cell_type": "code",
   "execution_count": 64,
   "id": "4c7c9f33",
   "metadata": {
    "execution": {
     "iopub.execute_input": "2022-10-04T11:53:23.384403Z",
     "iopub.status.busy": "2022-10-04T11:53:23.384012Z",
     "iopub.status.idle": "2022-10-04T11:53:23.395340Z",
     "shell.execute_reply": "2022-10-04T11:53:23.394599Z"
    },
    "papermill": {
     "duration": 0.17661,
     "end_time": "2022-10-04T11:53:23.398484",
     "exception": false,
     "start_time": "2022-10-04T11:53:23.221874",
     "status": "completed"
    },
    "tags": []
   },
   "outputs": [],
   "source": [
    "def init_coeffs(n_hidden=20):\n",
    "    layer1 = (torch.rand(n_coeff, n_hidden)-0.5)/n_hidden\n",
    "    layer2 = torch.rand(n_hidden, 1)-0.3\n",
    "    const = torch.rand(1)[0]\n",
    "    return layer1.requires_grad_(),layer2.requires_grad_(),const.requires_grad_()"
   ]
  },
  {
   "cell_type": "markdown",
   "id": "9c62775a",
   "metadata": {
    "papermill": {
     "duration": 0.174991,
     "end_time": "2022-10-04T11:53:23.784140",
     "exception": false,
     "start_time": "2022-10-04T11:53:23.609149",
     "status": "completed"
    },
    "tags": []
   },
   "source": [
    "Now we have our coefficients, we can create our neural net. The key steps are the two matrix products, `indeps@l1` and `res@l2` (where `res` is the output of the first layer). The first layer output is passed to `F.relu` (that's our non-linearity), and the second is passed to `torch.sigmoid` as before."
   ]
  },
  {
   "cell_type": "code",
   "execution_count": 65,
   "id": "46ab8a02",
   "metadata": {
    "execution": {
     "iopub.execute_input": "2022-10-04T11:53:24.041668Z",
     "iopub.status.busy": "2022-10-04T11:53:24.040975Z",
     "iopub.status.idle": "2022-10-04T11:53:24.045873Z",
     "shell.execute_reply": "2022-10-04T11:53:24.045229Z"
    },
    "papermill": {
     "duration": 0.118016,
     "end_time": "2022-10-04T11:53:24.047571",
     "exception": false,
     "start_time": "2022-10-04T11:53:23.929555",
     "status": "completed"
    },
    "tags": []
   },
   "outputs": [],
   "source": [
    "import torch.nn.functional as F\n",
    "\n",
    "def calc_preds(coeffs, indeps):\n",
    "    l1,l2,const = coeffs\n",
    "    res = F.relu(indeps@l1)\n",
    "    res = res@l2 + const\n",
    "    return torch.sigmoid(res)"
   ]
  },
  {
   "cell_type": "markdown",
   "id": "ccd5356c",
   "metadata": {
    "papermill": {
     "duration": 0.121542,
     "end_time": "2022-10-04T11:53:24.278698",
     "exception": false,
     "start_time": "2022-10-04T11:53:24.157156",
     "status": "completed"
    },
    "tags": []
   },
   "source": [
    "Finally, now that we have more than one set of coefficients, we need to add a loop to update each one:"
   ]
  },
  {
   "cell_type": "code",
   "execution_count": 66,
   "id": "e5172089",
   "metadata": {
    "execution": {
     "iopub.execute_input": "2022-10-04T11:53:24.498306Z",
     "iopub.status.busy": "2022-10-04T11:53:24.498023Z",
     "iopub.status.idle": "2022-10-04T11:53:24.502001Z",
     "shell.execute_reply": "2022-10-04T11:53:24.501315Z"
    },
    "papermill": {
     "duration": 0.115903,
     "end_time": "2022-10-04T11:53:24.503720",
     "exception": false,
     "start_time": "2022-10-04T11:53:24.387817",
     "status": "completed"
    },
    "tags": []
   },
   "outputs": [],
   "source": [
    "def update_coeffs(coeffs, lr):\n",
    "    for layer in coeffs:\n",
    "        layer.sub_(layer.grad * lr)\n",
    "        layer.grad.zero_()"
   ]
  },
  {
   "cell_type": "markdown",
   "id": "0a4b37ea",
   "metadata": {
    "papermill": {
     "duration": 0.108878,
     "end_time": "2022-10-04T11:53:24.723498",
     "exception": false,
     "start_time": "2022-10-04T11:53:24.614620",
     "status": "completed"
    },
    "tags": []
   },
   "source": [
    "That's it -- we're now ready to train our model!"
   ]
  },
  {
   "cell_type": "code",
   "execution_count": 67,
   "id": "89476014",
   "metadata": {
    "execution": {
     "iopub.execute_input": "2022-10-04T11:53:24.945954Z",
     "iopub.status.busy": "2022-10-04T11:53:24.945679Z",
     "iopub.status.idle": "2022-10-04T11:53:24.990225Z",
     "shell.execute_reply": "2022-10-04T11:53:24.989402Z"
    },
    "papermill": {
     "duration": 0.158229,
     "end_time": "2022-10-04T11:53:24.992086",
     "exception": false,
     "start_time": "2022-10-04T11:53:24.833857",
     "status": "completed"
    },
    "tags": []
   },
   "outputs": [
    {
     "name": "stdout",
     "output_type": "stream",
     "text": [
      "0.539; 0.530; 0.521; 0.510; 0.498; 0.483; 0.464; 0.442; 0.417; 0.394; 0.376; 0.362; 0.352; 0.345; 0.338; 0.332; 0.326; 0.319; 0.313; 0.307; 0.301; 0.295; 0.289; 0.284; 0.279; 0.275; 0.271; 0.267; 0.264; 0.260; "
     ]
    }
   ],
   "source": [
    "coeffs = train_model(lr=1.4)"
   ]
  },
  {
   "cell_type": "code",
   "execution_count": 68,
   "id": "91d304d5",
   "metadata": {
    "execution": {
     "iopub.execute_input": "2022-10-04T11:53:25.212675Z",
     "iopub.status.busy": "2022-10-04T11:53:25.212421Z",
     "iopub.status.idle": "2022-10-04T11:53:25.237063Z",
     "shell.execute_reply": "2022-10-04T11:53:25.236154Z"
    },
    "papermill": {
     "duration": 0.137386,
     "end_time": "2022-10-04T11:53:25.238823",
     "exception": false,
     "start_time": "2022-10-04T11:53:25.101437",
     "status": "completed"
    },
    "tags": []
   },
   "outputs": [
    {
     "name": "stdout",
     "output_type": "stream",
     "text": [
      "0.539; 0.427; 0.364; 0.334; 0.337; 0.347; 0.256; 0.292; 0.223; 0.213; 0.208; 0.205; 0.204; 0.203; 0.202; 0.201; 0.200; 0.199; 0.199; 0.199; 0.198; 0.198; 0.197; 0.197; 0.197; 0.196; 0.196; 0.196; 0.196; 0.196; "
     ]
    }
   ],
   "source": [
    "coeffs = train_model(lr=20)"
   ]
  },
  {
   "cell_type": "markdown",
   "id": "2fa29cc8",
   "metadata": {
    "papermill": {
     "duration": 0.109833,
     "end_time": "2022-10-04T11:53:25.458488",
     "exception": false,
     "start_time": "2022-10-04T11:53:25.348655",
     "status": "completed"
    },
    "tags": []
   },
   "source": [
    "It's looking good -- our loss is lower than before. Let's see if that translates to a better result on the validation set:"
   ]
  },
  {
   "cell_type": "code",
   "execution_count": 69,
   "id": "292c224c",
   "metadata": {
    "execution": {
     "iopub.execute_input": "2022-10-04T11:53:25.685643Z",
     "iopub.status.busy": "2022-10-04T11:53:25.684932Z",
     "iopub.status.idle": "2022-10-04T11:53:25.691774Z",
     "shell.execute_reply": "2022-10-04T11:53:25.690976Z"
    },
    "papermill": {
     "duration": 0.118171,
     "end_time": "2022-10-04T11:53:25.693517",
     "exception": false,
     "start_time": "2022-10-04T11:53:25.575346",
     "status": "completed"
    },
    "tags": []
   },
   "outputs": [
    {
     "data": {
      "text/plain": [
       "tensor(0.8258)"
      ]
     },
     "execution_count": 69,
     "metadata": {},
     "output_type": "execute_result"
    }
   ],
   "source": [
    "acc(coeffs)"
   ]
  },
  {
   "cell_type": "markdown",
   "id": "55ae1878",
   "metadata": {
    "papermill": {
     "duration": 0.107673,
     "end_time": "2022-10-04T11:53:25.917939",
     "exception": false,
     "start_time": "2022-10-04T11:53:25.810266",
     "status": "completed"
    },
    "tags": []
   },
   "source": [
    "In this case our neural net isn't showing better results than the linear model. That's not surprising; this dataset is very small and very simple, and isn't the kind of thing we'd expect to see neural networks excel at. Furthermore, our validation set is too small to reliably see much accuracy difference. But the key thing is that we now know exactly what a real neural net looks like!"
   ]
  },
  {
   "cell_type": "markdown",
   "id": "b191cc4d",
   "metadata": {
    "papermill": {
     "duration": 0.10762,
     "end_time": "2022-10-04T11:53:26.133892",
     "exception": false,
     "start_time": "2022-10-04T11:53:26.026272",
     "status": "completed"
    },
    "tags": []
   },
   "source": [
    "## Deep learning"
   ]
  },
  {
   "cell_type": "markdown",
   "id": "e2891614",
   "metadata": {
    "papermill": {
     "duration": 0.109459,
     "end_time": "2022-10-04T11:53:26.352948",
     "exception": false,
     "start_time": "2022-10-04T11:53:26.243489",
     "status": "completed"
    },
    "tags": []
   },
   "source": [
    "The neural net in the previous section only uses one hidden layer, so it doesn't count as \"deep\" learning. But we can use the exact same technique to make our neural net deep, by adding more matrix multiplications.\n",
    "\n",
    "First, we'll need to create additional coefficients for each layer:"
   ]
  },
  {
   "cell_type": "code",
   "execution_count": 70,
   "id": "71918e98",
   "metadata": {
    "execution": {
     "iopub.execute_input": "2022-10-04T11:53:26.570663Z",
     "iopub.status.busy": "2022-10-04T11:53:26.570386Z",
     "iopub.status.idle": "2022-10-04T11:53:26.576190Z",
     "shell.execute_reply": "2022-10-04T11:53:26.575486Z"
    },
    "papermill": {
     "duration": 0.116758,
     "end_time": "2022-10-04T11:53:26.577943",
     "exception": false,
     "start_time": "2022-10-04T11:53:26.461185",
     "status": "completed"
    },
    "tags": []
   },
   "outputs": [],
   "source": [
    "def init_coeffs():\n",
    "    hiddens = [10, 10]  # <-- set this to the size of each hidden layer you want\n",
    "    sizes = [n_coeff] + hiddens + [1]\n",
    "    n = len(sizes)\n",
    "    layers = [(torch.rand(sizes[i], sizes[i+1])-0.3)/sizes[i+1]*4 for i in range(n-1)]\n",
    "    consts = [(torch.rand(1)[0]-0.5)*0.1 for i in range(n-1)]\n",
    "    for l in layers+consts: l.requires_grad_()\n",
    "    return layers,consts"
   ]
  },
  {
   "cell_type": "markdown",
   "id": "1864acef",
   "metadata": {
    "papermill": {
     "duration": 0.109924,
     "end_time": "2022-10-04T11:53:26.795888",
     "exception": false,
     "start_time": "2022-10-04T11:53:26.685964",
     "status": "completed"
    },
    "tags": []
   },
   "source": [
    "You'll notice here that there's a lot of messy constants to get the random numbers in just the right ranges. When you train the model in a moment, you'll see that the tiniest changes to these initialisations can cause our model to fail to train at all! This is a key reason that deep learning failed to make much progress in the early days -- it's very finicky to get a good starting point for our coefficients. Nowadays, we have ways to deal with that, which we'll learn about in other notebooks.\n",
    "\n",
    "Our deep learning `calc_preds` looks much the same as before, but now we loop through each layer, instead of listing them separately:"
   ]
  },
  {
   "cell_type": "code",
   "execution_count": 71,
   "id": "a4dd470a",
   "metadata": {
    "execution": {
     "iopub.execute_input": "2022-10-04T11:53:27.015405Z",
     "iopub.status.busy": "2022-10-04T11:53:27.014805Z",
     "iopub.status.idle": "2022-10-04T11:53:27.019845Z",
     "shell.execute_reply": "2022-10-04T11:53:27.019169Z"
    },
    "papermill": {
     "duration": 0.116371,
     "end_time": "2022-10-04T11:53:27.021537",
     "exception": false,
     "start_time": "2022-10-04T11:53:26.905166",
     "status": "completed"
    },
    "tags": []
   },
   "outputs": [],
   "source": [
    "import torch.nn.functional as F\n",
    "\n",
    "def calc_preds(coeffs, indeps):\n",
    "    layers,consts = coeffs\n",
    "    n = len(layers)\n",
    "    res = indeps\n",
    "    for i,l in enumerate(layers):\n",
    "        res = res@l + consts[i]\n",
    "        if i!=n-1: res = F.relu(res)\n",
    "    return torch.sigmoid(res)"
   ]
  },
  {
   "cell_type": "markdown",
   "id": "5f9eec42",
   "metadata": {
    "papermill": {
     "duration": 0.108846,
     "end_time": "2022-10-04T11:53:27.238256",
     "exception": false,
     "start_time": "2022-10-04T11:53:27.129410",
     "status": "completed"
    },
    "tags": []
   },
   "source": [
    "We also need a minor update to `update_coeffs` since we've got `layers` and `consts` separated now:"
   ]
  },
  {
   "cell_type": "code",
   "execution_count": 72,
   "id": "371a9133",
   "metadata": {
    "execution": {
     "iopub.execute_input": "2022-10-04T11:53:27.457714Z",
     "iopub.status.busy": "2022-10-04T11:53:27.456993Z",
     "iopub.status.idle": "2022-10-04T11:53:27.461372Z",
     "shell.execute_reply": "2022-10-04T11:53:27.460649Z"
    },
    "papermill": {
     "duration": 0.115647,
     "end_time": "2022-10-04T11:53:27.463035",
     "exception": false,
     "start_time": "2022-10-04T11:53:27.347388",
     "status": "completed"
    },
    "tags": []
   },
   "outputs": [],
   "source": [
    "def update_coeffs(coeffs, lr):\n",
    "    layers,consts = coeffs\n",
    "    for layer in layers+consts:\n",
    "        layer.sub_(layer.grad * lr)\n",
    "        layer.grad.zero_()"
   ]
  },
  {
   "cell_type": "markdown",
   "id": "143896f3",
   "metadata": {
    "papermill": {
     "duration": 0.110113,
     "end_time": "2022-10-04T11:53:27.681426",
     "exception": false,
     "start_time": "2022-10-04T11:53:27.571313",
     "status": "completed"
    },
    "tags": []
   },
   "source": [
    "Let's train our model..."
   ]
  },
  {
   "cell_type": "code",
   "execution_count": 73,
   "id": "06115693",
   "metadata": {
    "execution": {
     "iopub.execute_input": "2022-10-04T11:53:27.904662Z",
     "iopub.status.busy": "2022-10-04T11:53:27.903943Z",
     "iopub.status.idle": "2022-10-04T11:53:27.935598Z",
     "shell.execute_reply": "2022-10-04T11:53:27.934616Z"
    },
    "papermill": {
     "duration": 0.145044,
     "end_time": "2022-10-04T11:53:27.937336",
     "exception": false,
     "start_time": "2022-10-04T11:53:27.792292",
     "status": "completed"
    },
    "tags": []
   },
   "outputs": [
    {
     "name": "stdout",
     "output_type": "stream",
     "text": [
      "0.588; 0.490; 0.475; 0.462; 0.451; 0.441; 0.433; 0.426; 0.420; 0.416; 0.412; 0.409; 0.406; 0.404; 0.402; 0.400; 0.399; 0.397; 0.396; 0.395; 0.394; 0.393; 0.393; 0.392; 0.391; 0.391; 0.390; 0.390; 0.389; 0.389; "
     ]
    }
   ],
   "source": [
    "coeffs = train_model(lr=4)"
   ]
  },
  {
   "cell_type": "markdown",
   "id": "1d212664",
   "metadata": {
    "papermill": {
     "duration": 0.108086,
     "end_time": "2022-10-04T11:53:28.153589",
     "exception": false,
     "start_time": "2022-10-04T11:53:28.045503",
     "status": "completed"
    },
    "tags": []
   },
   "source": [
    "...and check its accuracy:"
   ]
  },
  {
   "cell_type": "code",
   "execution_count": 74,
   "id": "2c4bb690",
   "metadata": {
    "execution": {
     "iopub.execute_input": "2022-10-04T11:53:28.392838Z",
     "iopub.status.busy": "2022-10-04T11:53:28.392563Z",
     "iopub.status.idle": "2022-10-04T11:53:30.287334Z",
     "shell.execute_reply": "2022-10-04T11:53:30.286293Z"
    },
    "papermill": {
     "duration": 2.024738,
     "end_time": "2022-10-04T11:53:30.289612",
     "exception": false,
     "start_time": "2022-10-04T11:53:28.264874",
     "status": "completed"
    },
    "tags": []
   },
   "outputs": [],
   "source": [
    "!git config --global user.email \"ipriyam26@gmail.com\"\n",
    "!git config --global user.name \"Priyam Srivastava\""
   ]
  },
  {
   "cell_type": "code",
   "execution_count": 75,
   "id": "adca912f",
   "metadata": {
    "execution": {
     "iopub.execute_input": "2022-10-04T11:53:30.510753Z",
     "iopub.status.busy": "2022-10-04T11:53:30.509934Z",
     "iopub.status.idle": "2022-10-04T11:53:34.338403Z",
     "shell.execute_reply": "2022-10-04T11:53:34.337375Z"
    },
    "papermill": {
     "duration": 3.942021,
     "end_time": "2022-10-04T11:53:34.340890",
     "exception": false,
     "start_time": "2022-10-04T11:53:30.398869",
     "status": "completed"
    },
    "tags": []
   },
   "outputs": [
    {
     "name": "stdout",
     "output_type": "stream",
     "text": [
      "Initialized empty Git repository in /kaggle/working/.git/\r\n",
      "[master (root-commit) 3d8cfad] Done\r\n",
      " 2 files changed, 5203 insertions(+)\r\n",
      " create mode 100644 __notebook__.ipynb\r\n",
      " create mode 100644 sub.csv\r\n"
     ]
    }
   ],
   "source": [
    "!git init\n",
    "!git add .\n",
    "!git commit -m \"Done\"\n",
    "!git remote add origin https://github.com/ipriyam26/Neural-Network-From-Scratch.git"
   ]
  },
  {
   "cell_type": "raw",
   "id": "7579f76e",
   "metadata": {
    "execution": {
     "iopub.execute_input": "2022-10-04T11:48:06.944996Z",
     "iopub.status.busy": "2022-10-04T11:48:06.944711Z"
    },
    "papermill": {
     "duration": 0.159817,
     "end_time": "2022-10-04T11:53:34.697341",
     "exception": false,
     "start_time": "2022-10-04T11:53:34.537524",
     "status": "completed"
    },
    "tags": []
   },
   "source": [
    "!git push origin master"
   ]
  },
  {
   "cell_type": "code",
   "execution_count": 76,
   "id": "f09e89fa",
   "metadata": {
    "execution": {
     "iopub.execute_input": "2022-10-04T11:53:34.981258Z",
     "iopub.status.busy": "2022-10-04T11:53:34.980430Z",
     "iopub.status.idle": "2022-10-04T11:53:34.988333Z",
     "shell.execute_reply": "2022-10-04T11:53:34.987584Z"
    },
    "papermill": {
     "duration": 0.125275,
     "end_time": "2022-10-04T11:53:34.990066",
     "exception": false,
     "start_time": "2022-10-04T11:53:34.864791",
     "status": "completed"
    },
    "tags": []
   },
   "outputs": [
    {
     "data": {
      "text/plain": [
       "tensor(0.5955)"
      ]
     },
     "execution_count": 76,
     "metadata": {},
     "output_type": "execute_result"
    }
   ],
   "source": [
    "acc(coeffs)"
   ]
  },
  {
   "cell_type": "markdown",
   "id": "8e318608",
   "metadata": {
    "papermill": {
     "duration": 0.11038,
     "end_time": "2022-10-04T11:53:35.210947",
     "exception": false,
     "start_time": "2022-10-04T11:53:35.100567",
     "status": "completed"
    },
    "tags": []
   },
   "source": [
    "## Final thoughts"
   ]
  },
  {
   "cell_type": "markdown",
   "id": "242090ed",
   "metadata": {
    "papermill": {
     "duration": 0.110223,
     "end_time": "2022-10-04T11:53:35.432657",
     "exception": false,
     "start_time": "2022-10-04T11:53:35.322434",
     "status": "completed"
    },
    "tags": []
   },
   "source": [
    "It's actually pretty cool that we've managed to create a real deep learning model from scratch and trained it to get over 80% accuracy on this task, all in the course of a single notebook!\n",
    "\n",
    "The \"real\" deep learning models that are used in research and industry look very similar to this, and in fact if you look inside the source code of any deep learning model you'll recognise the basic steps are the same.\n",
    "\n",
    "The biggest differences in practical models to what we have above are:\n",
    "\n",
    "- How initialisation and normalisation is done to ensure the model trains correctly every time\n",
    "- Regularization (to avoid over-fitting)\n",
    "- Modifying the neural net itself to take advantage of knowledge of the problem domain\n",
    "- Doing gradient descent steps on smaller batches, rather than the whole dataset.\n",
    "\n",
    "I'll be adding notebooks about all these later, and will add links here once they're ready.\n",
    "\n",
    "If you found this notebook useful, please remember to click the little up-arrow at the top to upvote it, since I like to know when people have found my work useful, and it helps others find it too. (BTW, be sure you're looking at my [original notebook here](https://www.kaggle.com/code/jhoward/linear-model-and-neural-net-from-scratch) when you do that, and are not on your own copy of it, otherwise your upvote won't get counted!) And if you have any questions or comments, please pop them below -- I read every comment I receive!"
   ]
  },
  {
   "cell_type": "code",
   "execution_count": null,
   "id": "8f4d51c3",
   "metadata": {
    "papermill": {
     "duration": 0.11177,
     "end_time": "2022-10-04T11:53:35.656540",
     "exception": false,
     "start_time": "2022-10-04T11:53:35.544770",
     "status": "completed"
    },
    "tags": []
   },
   "outputs": [],
   "source": []
  }
 ],
 "metadata": {
  "kernelspec": {
   "display_name": "Python 3",
   "language": "python",
   "name": "python3"
  },
  "language_info": {
   "codemirror_mode": {
    "name": "ipython",
    "version": 3
   },
   "file_extension": ".py",
   "mimetype": "text/x-python",
   "name": "python",
   "nbconvert_exporter": "python",
   "pygments_lexer": "ipython3",
   "version": "3.7.12"
  },
  "papermill": {
   "default_parameters": {},
   "duration": 57.177967,
   "end_time": "2022-10-04T11:53:36.890136",
   "environment_variables": {},
   "exception": null,
   "input_path": "__notebook__.ipynb",
   "output_path": "__notebook__.ipynb",
   "parameters": {},
   "start_time": "2022-10-04T11:52:39.712169",
   "version": "2.3.4"
  }
 },
 "nbformat": 4,
 "nbformat_minor": 5
}
